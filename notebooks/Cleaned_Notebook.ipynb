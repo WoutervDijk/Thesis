{
 "cells": [
  {
   "cell_type": "code",
   "execution_count": 1,
   "metadata": {
    "collapsed": true
   },
   "outputs": [],
   "source": [
    "import numpy as np\n",
    "import cupy as cp\n",
    "from scipy.special import zeta, factorial\n",
    "import scipy.integrate as integrate\n",
    "from scipy.stats import norm\n",
    "B_1 = -zeta(0.5)/np.sqrt(2 * np.pi)\n",
    "\n",
    "def simMeanMaxGBM(drift, sigma, T, N, m):\n",
    "    delta_t = T / m\n",
    "    sims = cp.zeros((N, m+1), dtype=\"float32\")\n",
    "    sims[:, 1:] = cp.random.normal(drift * delta_t, sigma * delta_t**0.5, (N,m)) # note scale param is sd not var\n",
    "    sims = cp.cumsum(sims, axis=1)\n",
    "    sims = cp.max(sims, axis=1) # Note all these variables are called sims to be memory efficient\n",
    "    return cp.mean(cp.exp(sims)), cp.exp(sims)\n",
    "\n",
    "def exactMeanMaxGBM(r_, sigma, T):\n",
    "    return (1 + sigma**2 / (2*r_)) * np.exp(r_*T) * norm.cdf((r_ + 0.5 * sigma**2)*T/(sigma * T**0.5)) + \\\n",
    "        norm.cdf(- (r_ - 0.5 * sigma**2) * T / (sigma*T**0.5)) * (1 - sigma**2 / (2 * r_))\n",
    "\n",
    "# Here we will numerically integrate my own idea, with the correction added later\n",
    "\n",
    "def toIntegrate(x, r_, sigma, T, m):\n",
    "    drift = r_ - 1/2 * sigma**2\n",
    "    def pdf(x):\n",
    "        sqrtSigmaT = sigma * T**0.5\n",
    "        return 1/sqrtSigmaT * norm.pdf((x - drift*T)/sqrtSigmaT) - 2 * drift / sigma**2 * np.exp(2 * drift*x / sigma**2) * norm.cdf((-x - drift * T)/sqrtSigmaT) +\\\n",
    "            np.exp(2 * drift * x / sigma**2) * norm.pdf((-x - drift * T)/sqrtSigmaT)/sqrtSigmaT\n",
    "    def otherPdf(x):\n",
    "        return 2 / (sigma * np.sqrt(2 * np.pi * T)) * np.exp(-1/(2 * sigma**2 * T) * (x-drift*T)**2) -\\\n",
    "            2 * drift/ sigma**2 * np.exp(2 * drift * x/ sigma**2)*norm.cdf((-x-drift*T)/(sigma * T**0.5))\n",
    "    return x * pdf(np.log(x) + B_1 * sigma * np.sqrt(T/m) - np.log(S_0)) / x\n",
    "\n",
    "def simProbMax0(r_, sigma, T, N, m):\n",
    "    drift = r_ - 1/2 * sigma**2\n",
    "    delta_t = T / m\n",
    "    sims = cp.zeros((N, m+1), dtype=\"float32\")\n",
    "    sims[:, 1:] = cp.random.normal(drift * delta_t, sigma * delta_t**0.5, (N,m)) # note scale param is sd not var\n",
    "    paths = cp.cumsum(sims, axis=1)\n",
    "    res = cp.any(paths > 0, axis=1)\n",
    "    return (cp.sum(~res) / N).get()\n",
    "\n",
    "#Solution of the probability using the theory of Johans paper thm 2.1 (not rewritten) redone later\n",
    "def exactProbMax0InfTime(r_, sigma, T, m):\n",
    "    drift = r_ - 1/2 * sigma**2\n",
    "    if drift >= 0:\n",
    "        raise Exception(\"drift is larger or equal to 0, not allowed\")\n",
    "    B = - (drift / sigma) * np.sqrt(T/m) # this is beta\n",
    "    r_values = np.arange(0, 150)\n",
    "    zeta_vals = zeta(0.5 - r_values)\n",
    "    summation = np.sum(zeta_vals/(factorial(r_values)*(2*r_values+1))* (-1)**r_values * (B**2 /2)**r_values)\n",
    "    return np.exp(B / np.sqrt(2 * np.pi) * summation) * np.sqrt(2) * B\n",
    "\n",
    "def own_first_order_approx_MC(S_0, r_, sigma, T, N, m):\n",
    "    result = integrate.quad(toIntegrate, S_0, np.inf, args=(r_, sigma, T, m))[0]\n",
    "    return np.exp(-r_ * T) * (result + S_0 * simProbMax0(r_, sigma, T, N, m)) - S_0\n",
    "\n",
    "def own_first_order_approx_inf_horizon(S_0, r_, sigma, T, m):\n",
    "    result = integrate.quad(toIntegrate, S_0, np.inf, args=(r_, sigma, T, m))[0]\n",
    "    return np.exp(-r_ * T) * (result + S_0 * exactProbMax0InfTime(r_, sigma, T, m)) - S_0\n",
    "\n",
    "def exact_price_cont_time(S_0, r_, sigma, T): # Checked with broadie paper\n",
    "    return np.exp(-r_*T) * exactMeanMaxGBM(r_, sigma, T) * S_0 - S_0\n",
    "\n",
    "# print(exact_price_cont_time(100, 0.1, 0.3, 0.5)) # sanity check with Broadie\n",
    "\n",
    "def broadie_first_order_approx(S_0, r_, sigma, T, m): # checked with broadie\n",
    "    v = exact_price_cont_time(S_0, r_, sigma, T)\n",
    "    return (v + S_0) * np.exp(-B_1 * sigma * (T/m)**0.5) - S_0\n",
    "\n",
    "# print(broadie_first_order_approx(100, 0.1, 0.3, 0.5, 5)) # Sanity check with broadie\n",
    "\n",
    "def g(t, mu, T, sigma):\n",
    "    return mu * T**0.5 / sigma * norm.cdf(mu * (T*t)**0.5/sigma) + \\\n",
    "           1 / np.sqrt(2 * np.pi * t) * np.exp(- mu**2 * T * t/(2 * sigma**2))\n",
    "\n",
    "\n",
    "# todo add that we can add multiple extra terms for diff in mean M and M_tilde\n",
    "def broadie_second_order_approx(S_0, r_, sigma, T, m):\n",
    "    v = exact_price_cont_time(S_0, r_, sigma, T)\n",
    "    mu = r_ - 0.5 * sigma**2\n",
    "    B_2 = 0.425\n",
    "    term = 1 - B_1 * sigma * T**0.5/m**0.5 + (2*g(1, mu, T, sigma) * sigma * T**0.5 - mu * T + 2 * B_2 * sigma**2 * T)/ (4*m)\n",
    "    return (v + S_0) * term - S_0\n",
    "\n",
    "# print(broadie_second_order_approx(100, 0.1, 0.3, 0.5, 5)) # Sanity check with broadie, note I use the representation of my paper but answers are equivalent\n",
    "# After much debugging it was found that converting in the last step the Cupy array to Np, took 99.9% of the time, so rewrote it\n",
    "def sim_price_lookback_put(S_0, r_, sigma, T, N, m):\n",
    "    # Important second argument is a CUPY array!\n",
    "    drift = r_ - 0.5 * sigma ** 2\n",
    "    sims_done = 0\n",
    "    max_gbws = cp.zeros(N, dtype=\"float32\")\n",
    "    while sims_done < N:\n",
    "        N_step = cp.min(np.array([25000000//m, N - sims_done])).item()\n",
    "        mean_GBM, max_gbws[sims_done:(sims_done + N_step)] = simMeanMaxGBM(drift, sigma, T, N_step, m)\n",
    "        sims_done += N_step\n",
    "    return cp.exp(-r_ * T) * cp.mean(max_gbws, dtype=\"float64\") * S_0 - S_0, max_gbws"
   ]
  },
  {
   "cell_type": "code",
   "execution_count": null,
   "outputs": [],
   "source": [
    "mean, max_gbw = sim_price_lookback_put(100, 0.1, 0.3, 0.5, 10000000, 7)\n",
    "print(mean, np.mean(max_gbw), np.exp(-0.1*0.5) * 100 * np.std(max_gbw) / np.sqrt(10000000))\n",
    "\n",
    "x_points = np.arange(1, 101)\n",
    "sims = np.zeros((x_points.size, 4))\n",
    "r_ = 0.1\n",
    "sigma = 0.3\n",
    "T = 0.5\n",
    "# from timeit import default_timer as timer # Time simulations\n",
    "# start = timer()\n",
    "# sim_price_lookback_put(100, r_, sigma, T, 100000000, 100)\n",
    "# end = timer()\n",
    "# print(\"Time\", end - start) # Time in seconds, e.g. 5.38091952400282\n",
    "# for i in range(0, x_points.size):\n",
    "#     m = i+1\n",
    "#     sims[i,:] = np.array([exact_price_cont_time(100, r_, sigma, T), broadie_first_order_approx(100, r_, sigma, T, m)\n",
    "#         , broadie_second_order_approx(100, r_, sigma, T, m), sim_price_lookback_put(100, r_, sigma, T, 10000000, m)[0]])"
   ],
   "metadata": {
    "collapsed": false,
    "pycharm": {
     "name": "#%%\n"
    }
   }
  },
  {
   "cell_type": "code",
   "execution_count": 144,
   "outputs": [
    {
     "name": "stderr",
     "output_type": "stream",
     "text": [
      "<ipython-input-144-d465f421f736>:22: UserWarning: Matplotlib is currently using pgf, which is a non-GUI backend, so cannot show the figure.\n",
      "  plt.show()\n"
     ]
    },
    {
     "ename": "ValueError",
     "evalue": "Error processing '\\(\\displaystyle {−20}\\)'\nLaTeX Output:\n\n! Package inputenc Error: Unicode character − (U+2212)\n(inputenc)                not set up for use with LaTeX.\n\nSee the inputenc package documentation for explanation.\nType  H <return>  for immediate help.\n ...                                              \n                                                  \n<*> ...0000}\\selectfont \\(\\displaystyle {−20}\\)}\n                                                  \n!  ==> Fatal error occurred, no output PDF file produced!\nTranscript written on texput.log.\n",
     "output_type": "error",
     "traceback": [
      "\u001B[1;31m---------------------------------------------------------------------------\u001B[0m",
      "\u001B[1;31mLatexError\u001B[0m                                Traceback (most recent call last)",
      "\u001B[1;32m~\\anaconda3\\envs\\simulations\\lib\\site-packages\\matplotlib\\backends\\backend_pgf.py\u001B[0m in \u001B[0;36mget_width_height_descent\u001B[1;34m(self, text, prop)\u001B[0m\n\u001B[0;32m    346\u001B[0m         \u001B[1;32mtry\u001B[0m\u001B[1;33m:\u001B[0m\u001B[1;33m\u001B[0m\u001B[1;33m\u001B[0m\u001B[0m\n\u001B[1;32m--> 347\u001B[1;33m             \u001B[0mself\u001B[0m\u001B[1;33m.\u001B[0m\u001B[0m_expect_prompt\u001B[0m\u001B[1;33m(\u001B[0m\u001B[1;33m)\u001B[0m\u001B[1;33m\u001B[0m\u001B[1;33m\u001B[0m\u001B[0m\n\u001B[0m\u001B[0;32m    348\u001B[0m         \u001B[1;32mexcept\u001B[0m \u001B[0mLatexError\u001B[0m \u001B[1;32mas\u001B[0m \u001B[0me\u001B[0m\u001B[1;33m:\u001B[0m\u001B[1;33m\u001B[0m\u001B[1;33m\u001B[0m\u001B[0m\n",
      "\u001B[1;32m~\\anaconda3\\envs\\simulations\\lib\\site-packages\\matplotlib\\backends\\backend_pgf.py\u001B[0m in \u001B[0;36m_expect_prompt\u001B[1;34m(self)\u001B[0m\n\u001B[0;32m    269\u001B[0m     \u001B[1;32mdef\u001B[0m \u001B[0m_expect_prompt\u001B[0m\u001B[1;33m(\u001B[0m\u001B[0mself\u001B[0m\u001B[1;33m)\u001B[0m\u001B[1;33m:\u001B[0m\u001B[1;33m\u001B[0m\u001B[1;33m\u001B[0m\u001B[0m\n\u001B[1;32m--> 270\u001B[1;33m         \u001B[1;32mreturn\u001B[0m \u001B[0mself\u001B[0m\u001B[1;33m.\u001B[0m\u001B[0m_expect\u001B[0m\u001B[1;33m(\u001B[0m\u001B[1;34m\"\\n*\"\u001B[0m\u001B[1;33m)\u001B[0m\u001B[1;33m\u001B[0m\u001B[1;33m\u001B[0m\u001B[0m\n\u001B[0m\u001B[0;32m    271\u001B[0m \u001B[1;33m\u001B[0m\u001B[0m\n",
      "\u001B[1;32m~\\anaconda3\\envs\\simulations\\lib\\site-packages\\matplotlib\\backends\\backend_pgf.py\u001B[0m in \u001B[0;36m_expect\u001B[1;34m(self, s)\u001B[0m\n\u001B[0;32m    265\u001B[0m                 \u001B[0mself\u001B[0m\u001B[1;33m.\u001B[0m\u001B[0mlatex\u001B[0m \u001B[1;33m=\u001B[0m \u001B[1;32mNone\u001B[0m\u001B[1;33m\u001B[0m\u001B[1;33m\u001B[0m\u001B[0m\n\u001B[1;32m--> 266\u001B[1;33m                 \u001B[1;32mraise\u001B[0m \u001B[0mLatexError\u001B[0m\u001B[1;33m(\u001B[0m\u001B[1;34m\"LaTeX process halted\"\u001B[0m\u001B[1;33m,\u001B[0m \u001B[1;34m\"\"\u001B[0m\u001B[1;33m.\u001B[0m\u001B[0mjoin\u001B[0m\u001B[1;33m(\u001B[0m\u001B[0mchars\u001B[0m\u001B[1;33m)\u001B[0m\u001B[1;33m)\u001B[0m\u001B[1;33m\u001B[0m\u001B[1;33m\u001B[0m\u001B[0m\n\u001B[0m\u001B[0;32m    267\u001B[0m         \u001B[1;32mreturn\u001B[0m \u001B[1;34m\"\"\u001B[0m\u001B[1;33m.\u001B[0m\u001B[0mjoin\u001B[0m\u001B[1;33m(\u001B[0m\u001B[0mchars\u001B[0m\u001B[1;33m)\u001B[0m\u001B[1;33m\u001B[0m\u001B[1;33m\u001B[0m\u001B[0m\n",
      "\u001B[1;31mLatexError\u001B[0m: LaTeX process halted",
      "\nThe above exception was the direct cause of the following exception:\n",
      "\u001B[1;31mValueError\u001B[0m                                Traceback (most recent call last)",
      "\u001B[1;32m<ipython-input-144-d465f421f736>\u001B[0m in \u001B[0;36m<module>\u001B[1;34m\u001B[0m\n\u001B[0;32m     21\u001B[0m \u001B[0mplt\u001B[0m\u001B[1;33m.\u001B[0m\u001B[0mgrid\u001B[0m\u001B[1;33m(\u001B[0m\u001B[1;33m)\u001B[0m\u001B[1;33m\u001B[0m\u001B[1;33m\u001B[0m\u001B[0m\n\u001B[0;32m     22\u001B[0m \u001B[0mplt\u001B[0m\u001B[1;33m.\u001B[0m\u001B[0mshow\u001B[0m\u001B[1;33m(\u001B[0m\u001B[1;33m)\u001B[0m\u001B[1;33m\u001B[0m\u001B[1;33m\u001B[0m\u001B[0m\n\u001B[1;32m---> 23\u001B[1;33m \u001B[0mplt\u001B[0m\u001B[1;33m.\u001B[0m\u001B[0msavefig\u001B[0m\u001B[1;33m(\u001B[0m\u001B[1;34m'histogram.pgf'\u001B[0m\u001B[1;33m)\u001B[0m\u001B[1;33m\u001B[0m\u001B[1;33m\u001B[0m\u001B[0m\n\u001B[0m\u001B[0;32m     24\u001B[0m \u001B[1;33m\u001B[0m\u001B[0m\n\u001B[0;32m     25\u001B[0m \u001B[0mprint\u001B[0m\u001B[1;33m(\u001B[0m\u001B[0msims\u001B[0m\u001B[1;33m[\u001B[0m\u001B[1;36m79\u001B[0m\u001B[1;33m]\u001B[0m\u001B[1;33m)\u001B[0m\u001B[1;33m\u001B[0m\u001B[1;33m\u001B[0m\u001B[0m\n",
      "\u001B[1;32m~\\anaconda3\\envs\\simulations\\lib\\site-packages\\matplotlib\\pyplot.py\u001B[0m in \u001B[0;36msavefig\u001B[1;34m(*args, **kwargs)\u001B[0m\n\u001B[0;32m    857\u001B[0m \u001B[1;32mdef\u001B[0m \u001B[0msavefig\u001B[0m\u001B[1;33m(\u001B[0m\u001B[1;33m*\u001B[0m\u001B[0margs\u001B[0m\u001B[1;33m,\u001B[0m \u001B[1;33m**\u001B[0m\u001B[0mkwargs\u001B[0m\u001B[1;33m)\u001B[0m\u001B[1;33m:\u001B[0m\u001B[1;33m\u001B[0m\u001B[1;33m\u001B[0m\u001B[0m\n\u001B[0;32m    858\u001B[0m     \u001B[0mfig\u001B[0m \u001B[1;33m=\u001B[0m \u001B[0mgcf\u001B[0m\u001B[1;33m(\u001B[0m\u001B[1;33m)\u001B[0m\u001B[1;33m\u001B[0m\u001B[1;33m\u001B[0m\u001B[0m\n\u001B[1;32m--> 859\u001B[1;33m     \u001B[0mres\u001B[0m \u001B[1;33m=\u001B[0m \u001B[0mfig\u001B[0m\u001B[1;33m.\u001B[0m\u001B[0msavefig\u001B[0m\u001B[1;33m(\u001B[0m\u001B[1;33m*\u001B[0m\u001B[0margs\u001B[0m\u001B[1;33m,\u001B[0m \u001B[1;33m**\u001B[0m\u001B[0mkwargs\u001B[0m\u001B[1;33m)\u001B[0m\u001B[1;33m\u001B[0m\u001B[1;33m\u001B[0m\u001B[0m\n\u001B[0m\u001B[0;32m    860\u001B[0m     \u001B[0mfig\u001B[0m\u001B[1;33m.\u001B[0m\u001B[0mcanvas\u001B[0m\u001B[1;33m.\u001B[0m\u001B[0mdraw_idle\u001B[0m\u001B[1;33m(\u001B[0m\u001B[1;33m)\u001B[0m   \u001B[1;31m# need this if 'transparent=True' to reset colors\u001B[0m\u001B[1;33m\u001B[0m\u001B[1;33m\u001B[0m\u001B[0m\n\u001B[0;32m    861\u001B[0m     \u001B[1;32mreturn\u001B[0m \u001B[0mres\u001B[0m\u001B[1;33m\u001B[0m\u001B[1;33m\u001B[0m\u001B[0m\n",
      "\u001B[1;32m~\\anaconda3\\envs\\simulations\\lib\\site-packages\\matplotlib\\figure.py\u001B[0m in \u001B[0;36msavefig\u001B[1;34m(self, fname, transparent, **kwargs)\u001B[0m\n\u001B[0;32m   2309\u001B[0m                 \u001B[0mpatch\u001B[0m\u001B[1;33m.\u001B[0m\u001B[0mset_edgecolor\u001B[0m\u001B[1;33m(\u001B[0m\u001B[1;34m'none'\u001B[0m\u001B[1;33m)\u001B[0m\u001B[1;33m\u001B[0m\u001B[1;33m\u001B[0m\u001B[0m\n\u001B[0;32m   2310\u001B[0m \u001B[1;33m\u001B[0m\u001B[0m\n\u001B[1;32m-> 2311\u001B[1;33m         \u001B[0mself\u001B[0m\u001B[1;33m.\u001B[0m\u001B[0mcanvas\u001B[0m\u001B[1;33m.\u001B[0m\u001B[0mprint_figure\u001B[0m\u001B[1;33m(\u001B[0m\u001B[0mfname\u001B[0m\u001B[1;33m,\u001B[0m \u001B[1;33m**\u001B[0m\u001B[0mkwargs\u001B[0m\u001B[1;33m)\u001B[0m\u001B[1;33m\u001B[0m\u001B[1;33m\u001B[0m\u001B[0m\n\u001B[0m\u001B[0;32m   2312\u001B[0m \u001B[1;33m\u001B[0m\u001B[0m\n\u001B[0;32m   2313\u001B[0m         \u001B[1;32mif\u001B[0m \u001B[0mtransparent\u001B[0m\u001B[1;33m:\u001B[0m\u001B[1;33m\u001B[0m\u001B[1;33m\u001B[0m\u001B[0m\n",
      "\u001B[1;32m~\\anaconda3\\envs\\simulations\\lib\\site-packages\\matplotlib\\backend_bases.py\u001B[0m in \u001B[0;36mprint_figure\u001B[1;34m(self, filename, dpi, facecolor, edgecolor, orientation, format, bbox_inches, pad_inches, bbox_extra_artists, backend, **kwargs)\u001B[0m\n\u001B[0;32m   2208\u001B[0m \u001B[1;33m\u001B[0m\u001B[0m\n\u001B[0;32m   2209\u001B[0m             \u001B[1;32mtry\u001B[0m\u001B[1;33m:\u001B[0m\u001B[1;33m\u001B[0m\u001B[1;33m\u001B[0m\u001B[0m\n\u001B[1;32m-> 2210\u001B[1;33m                 result = print_method(\n\u001B[0m\u001B[0;32m   2211\u001B[0m                     \u001B[0mfilename\u001B[0m\u001B[1;33m,\u001B[0m\u001B[1;33m\u001B[0m\u001B[1;33m\u001B[0m\u001B[0m\n\u001B[0;32m   2212\u001B[0m                     \u001B[0mdpi\u001B[0m\u001B[1;33m=\u001B[0m\u001B[0mdpi\u001B[0m\u001B[1;33m,\u001B[0m\u001B[1;33m\u001B[0m\u001B[1;33m\u001B[0m\u001B[0m\n",
      "\u001B[1;32m~\\anaconda3\\envs\\simulations\\lib\\site-packages\\matplotlib\\backends\\backend_pgf.py\u001B[0m in \u001B[0;36mprint_pgf\u001B[1;34m(self, fname_or_fh, *args, **kwargs)\u001B[0m\n\u001B[0;32m    867\u001B[0m             \u001B[1;32mif\u001B[0m \u001B[1;32mnot\u001B[0m \u001B[0mcbook\u001B[0m\u001B[1;33m.\u001B[0m\u001B[0mfile_requires_unicode\u001B[0m\u001B[1;33m(\u001B[0m\u001B[0mfile\u001B[0m\u001B[1;33m)\u001B[0m\u001B[1;33m:\u001B[0m\u001B[1;33m\u001B[0m\u001B[1;33m\u001B[0m\u001B[0m\n\u001B[0;32m    868\u001B[0m                 \u001B[0mfile\u001B[0m \u001B[1;33m=\u001B[0m \u001B[0mcodecs\u001B[0m\u001B[1;33m.\u001B[0m\u001B[0mgetwriter\u001B[0m\u001B[1;33m(\u001B[0m\u001B[1;34m\"utf-8\"\u001B[0m\u001B[1;33m)\u001B[0m\u001B[1;33m(\u001B[0m\u001B[0mfile\u001B[0m\u001B[1;33m)\u001B[0m\u001B[1;33m\u001B[0m\u001B[1;33m\u001B[0m\u001B[0m\n\u001B[1;32m--> 869\u001B[1;33m             \u001B[0mself\u001B[0m\u001B[1;33m.\u001B[0m\u001B[0m_print_pgf_to_fh\u001B[0m\u001B[1;33m(\u001B[0m\u001B[0mfile\u001B[0m\u001B[1;33m,\u001B[0m \u001B[1;33m*\u001B[0m\u001B[0margs\u001B[0m\u001B[1;33m,\u001B[0m \u001B[1;33m**\u001B[0m\u001B[0mkwargs\u001B[0m\u001B[1;33m)\u001B[0m\u001B[1;33m\u001B[0m\u001B[1;33m\u001B[0m\u001B[0m\n\u001B[0m\u001B[0;32m    870\u001B[0m \u001B[1;33m\u001B[0m\u001B[0m\n\u001B[0;32m    871\u001B[0m     \u001B[1;32mdef\u001B[0m \u001B[0m_print_pdf_to_fh\u001B[0m\u001B[1;33m(\u001B[0m\u001B[0mself\u001B[0m\u001B[1;33m,\u001B[0m \u001B[0mfh\u001B[0m\u001B[1;33m,\u001B[0m \u001B[1;33m*\u001B[0m\u001B[0margs\u001B[0m\u001B[1;33m,\u001B[0m \u001B[0mmetadata\u001B[0m\u001B[1;33m=\u001B[0m\u001B[1;32mNone\u001B[0m\u001B[1;33m,\u001B[0m \u001B[1;33m**\u001B[0m\u001B[0mkwargs\u001B[0m\u001B[1;33m)\u001B[0m\u001B[1;33m:\u001B[0m\u001B[1;33m\u001B[0m\u001B[1;33m\u001B[0m\u001B[0m\n",
      "\u001B[1;32m~\\anaconda3\\envs\\simulations\\lib\\site-packages\\matplotlib\\backend_bases.py\u001B[0m in \u001B[0;36mwrapper\u001B[1;34m(*args, **kwargs)\u001B[0m\n\u001B[0;32m   1637\u001B[0m             \u001B[0mkwargs\u001B[0m\u001B[1;33m.\u001B[0m\u001B[0mpop\u001B[0m\u001B[1;33m(\u001B[0m\u001B[0marg\u001B[0m\u001B[1;33m)\u001B[0m\u001B[1;33m\u001B[0m\u001B[1;33m\u001B[0m\u001B[0m\n\u001B[0;32m   1638\u001B[0m \u001B[1;33m\u001B[0m\u001B[0m\n\u001B[1;32m-> 1639\u001B[1;33m         \u001B[1;32mreturn\u001B[0m \u001B[0mfunc\u001B[0m\u001B[1;33m(\u001B[0m\u001B[1;33m*\u001B[0m\u001B[0margs\u001B[0m\u001B[1;33m,\u001B[0m \u001B[1;33m**\u001B[0m\u001B[0mkwargs\u001B[0m\u001B[1;33m)\u001B[0m\u001B[1;33m\u001B[0m\u001B[1;33m\u001B[0m\u001B[0m\n\u001B[0m\u001B[0;32m   1640\u001B[0m \u001B[1;33m\u001B[0m\u001B[0m\n\u001B[0;32m   1641\u001B[0m     \u001B[1;32mreturn\u001B[0m \u001B[0mwrapper\u001B[0m\u001B[1;33m\u001B[0m\u001B[1;33m\u001B[0m\u001B[0m\n",
      "\u001B[1;32m~\\anaconda3\\envs\\simulations\\lib\\site-packages\\matplotlib\\cbook\\deprecation.py\u001B[0m in \u001B[0;36mwrapper\u001B[1;34m(*inner_args, **inner_kwargs)\u001B[0m\n\u001B[0;32m    409\u001B[0m                          \u001B[1;32melse\u001B[0m \u001B[0mdeprecation_addendum\u001B[0m\u001B[1;33m,\u001B[0m\u001B[1;33m\u001B[0m\u001B[1;33m\u001B[0m\u001B[0m\n\u001B[0;32m    410\u001B[0m                 **kwargs)\n\u001B[1;32m--> 411\u001B[1;33m         \u001B[1;32mreturn\u001B[0m \u001B[0mfunc\u001B[0m\u001B[1;33m(\u001B[0m\u001B[1;33m*\u001B[0m\u001B[0minner_args\u001B[0m\u001B[1;33m,\u001B[0m \u001B[1;33m**\u001B[0m\u001B[0minner_kwargs\u001B[0m\u001B[1;33m)\u001B[0m\u001B[1;33m\u001B[0m\u001B[1;33m\u001B[0m\u001B[0m\n\u001B[0m\u001B[0;32m    412\u001B[0m \u001B[1;33m\u001B[0m\u001B[0m\n\u001B[0;32m    413\u001B[0m     \u001B[1;32mreturn\u001B[0m \u001B[0mwrapper\u001B[0m\u001B[1;33m\u001B[0m\u001B[1;33m\u001B[0m\u001B[0m\n",
      "\u001B[1;32m~\\anaconda3\\envs\\simulations\\lib\\site-packages\\matplotlib\\backends\\backend_pgf.py\u001B[0m in \u001B[0;36m_print_pgf_to_fh\u001B[1;34m(self, fh, dryrun, bbox_inches_restore)\u001B[0m\n\u001B[0;32m    849\u001B[0m                                      \u001B[0mRendererPgf\u001B[0m\u001B[1;33m(\u001B[0m\u001B[0mself\u001B[0m\u001B[1;33m.\u001B[0m\u001B[0mfigure\u001B[0m\u001B[1;33m,\u001B[0m \u001B[0mfh\u001B[0m\u001B[1;33m)\u001B[0m\u001B[1;33m,\u001B[0m\u001B[1;33m\u001B[0m\u001B[1;33m\u001B[0m\u001B[0m\n\u001B[0;32m    850\u001B[0m                                      bbox_inches_restore=bbox_inches_restore)\n\u001B[1;32m--> 851\u001B[1;33m         \u001B[0mself\u001B[0m\u001B[1;33m.\u001B[0m\u001B[0mfigure\u001B[0m\u001B[1;33m.\u001B[0m\u001B[0mdraw\u001B[0m\u001B[1;33m(\u001B[0m\u001B[0mrenderer\u001B[0m\u001B[1;33m)\u001B[0m\u001B[1;33m\u001B[0m\u001B[1;33m\u001B[0m\u001B[0m\n\u001B[0m\u001B[0;32m    852\u001B[0m \u001B[1;33m\u001B[0m\u001B[0m\n\u001B[0;32m    853\u001B[0m         \u001B[1;31m# end the pgfpicture environment\u001B[0m\u001B[1;33m\u001B[0m\u001B[1;33m\u001B[0m\u001B[1;33m\u001B[0m\u001B[0m\n",
      "\u001B[1;32m~\\anaconda3\\envs\\simulations\\lib\\site-packages\\matplotlib\\artist.py\u001B[0m in \u001B[0;36mdraw_wrapper\u001B[1;34m(artist, renderer, *args, **kwargs)\u001B[0m\n\u001B[0;32m     39\u001B[0m                 \u001B[0mrenderer\u001B[0m\u001B[1;33m.\u001B[0m\u001B[0mstart_filter\u001B[0m\u001B[1;33m(\u001B[0m\u001B[1;33m)\u001B[0m\u001B[1;33m\u001B[0m\u001B[1;33m\u001B[0m\u001B[0m\n\u001B[0;32m     40\u001B[0m \u001B[1;33m\u001B[0m\u001B[0m\n\u001B[1;32m---> 41\u001B[1;33m             \u001B[1;32mreturn\u001B[0m \u001B[0mdraw\u001B[0m\u001B[1;33m(\u001B[0m\u001B[0martist\u001B[0m\u001B[1;33m,\u001B[0m \u001B[0mrenderer\u001B[0m\u001B[1;33m,\u001B[0m \u001B[1;33m*\u001B[0m\u001B[0margs\u001B[0m\u001B[1;33m,\u001B[0m \u001B[1;33m**\u001B[0m\u001B[0mkwargs\u001B[0m\u001B[1;33m)\u001B[0m\u001B[1;33m\u001B[0m\u001B[1;33m\u001B[0m\u001B[0m\n\u001B[0m\u001B[0;32m     42\u001B[0m         \u001B[1;32mfinally\u001B[0m\u001B[1;33m:\u001B[0m\u001B[1;33m\u001B[0m\u001B[1;33m\u001B[0m\u001B[0m\n\u001B[0;32m     43\u001B[0m             \u001B[1;32mif\u001B[0m \u001B[0martist\u001B[0m\u001B[1;33m.\u001B[0m\u001B[0mget_agg_filter\u001B[0m\u001B[1;33m(\u001B[0m\u001B[1;33m)\u001B[0m \u001B[1;32mis\u001B[0m \u001B[1;32mnot\u001B[0m \u001B[1;32mNone\u001B[0m\u001B[1;33m:\u001B[0m\u001B[1;33m\u001B[0m\u001B[1;33m\u001B[0m\u001B[0m\n",
      "\u001B[1;32m~\\anaconda3\\envs\\simulations\\lib\\site-packages\\matplotlib\\figure.py\u001B[0m in \u001B[0;36mdraw\u001B[1;34m(self, renderer)\u001B[0m\n\u001B[0;32m   1861\u001B[0m \u001B[1;33m\u001B[0m\u001B[0m\n\u001B[0;32m   1862\u001B[0m             \u001B[0mself\u001B[0m\u001B[1;33m.\u001B[0m\u001B[0mpatch\u001B[0m\u001B[1;33m.\u001B[0m\u001B[0mdraw\u001B[0m\u001B[1;33m(\u001B[0m\u001B[0mrenderer\u001B[0m\u001B[1;33m)\u001B[0m\u001B[1;33m\u001B[0m\u001B[1;33m\u001B[0m\u001B[0m\n\u001B[1;32m-> 1863\u001B[1;33m             mimage._draw_list_compositing_images(\n\u001B[0m\u001B[0;32m   1864\u001B[0m                 renderer, self, artists, self.suppressComposite)\n\u001B[0;32m   1865\u001B[0m \u001B[1;33m\u001B[0m\u001B[0m\n",
      "\u001B[1;32m~\\anaconda3\\envs\\simulations\\lib\\site-packages\\matplotlib\\image.py\u001B[0m in \u001B[0;36m_draw_list_compositing_images\u001B[1;34m(renderer, parent, artists, suppress_composite)\u001B[0m\n\u001B[0;32m    129\u001B[0m     \u001B[1;32mif\u001B[0m \u001B[0mnot_composite\u001B[0m \u001B[1;32mor\u001B[0m \u001B[1;32mnot\u001B[0m \u001B[0mhas_images\u001B[0m\u001B[1;33m:\u001B[0m\u001B[1;33m\u001B[0m\u001B[1;33m\u001B[0m\u001B[0m\n\u001B[0;32m    130\u001B[0m         \u001B[1;32mfor\u001B[0m \u001B[0ma\u001B[0m \u001B[1;32min\u001B[0m \u001B[0martists\u001B[0m\u001B[1;33m:\u001B[0m\u001B[1;33m\u001B[0m\u001B[1;33m\u001B[0m\u001B[0m\n\u001B[1;32m--> 131\u001B[1;33m             \u001B[0ma\u001B[0m\u001B[1;33m.\u001B[0m\u001B[0mdraw\u001B[0m\u001B[1;33m(\u001B[0m\u001B[0mrenderer\u001B[0m\u001B[1;33m)\u001B[0m\u001B[1;33m\u001B[0m\u001B[1;33m\u001B[0m\u001B[0m\n\u001B[0m\u001B[0;32m    132\u001B[0m     \u001B[1;32melse\u001B[0m\u001B[1;33m:\u001B[0m\u001B[1;33m\u001B[0m\u001B[1;33m\u001B[0m\u001B[0m\n\u001B[0;32m    133\u001B[0m         \u001B[1;31m# Composite any adjacent images together\u001B[0m\u001B[1;33m\u001B[0m\u001B[1;33m\u001B[0m\u001B[1;33m\u001B[0m\u001B[0m\n",
      "\u001B[1;32m~\\anaconda3\\envs\\simulations\\lib\\site-packages\\matplotlib\\artist.py\u001B[0m in \u001B[0;36mdraw_wrapper\u001B[1;34m(artist, renderer, *args, **kwargs)\u001B[0m\n\u001B[0;32m     39\u001B[0m                 \u001B[0mrenderer\u001B[0m\u001B[1;33m.\u001B[0m\u001B[0mstart_filter\u001B[0m\u001B[1;33m(\u001B[0m\u001B[1;33m)\u001B[0m\u001B[1;33m\u001B[0m\u001B[1;33m\u001B[0m\u001B[0m\n\u001B[0;32m     40\u001B[0m \u001B[1;33m\u001B[0m\u001B[0m\n\u001B[1;32m---> 41\u001B[1;33m             \u001B[1;32mreturn\u001B[0m \u001B[0mdraw\u001B[0m\u001B[1;33m(\u001B[0m\u001B[0martist\u001B[0m\u001B[1;33m,\u001B[0m \u001B[0mrenderer\u001B[0m\u001B[1;33m,\u001B[0m \u001B[1;33m*\u001B[0m\u001B[0margs\u001B[0m\u001B[1;33m,\u001B[0m \u001B[1;33m**\u001B[0m\u001B[0mkwargs\u001B[0m\u001B[1;33m)\u001B[0m\u001B[1;33m\u001B[0m\u001B[1;33m\u001B[0m\u001B[0m\n\u001B[0m\u001B[0;32m     42\u001B[0m         \u001B[1;32mfinally\u001B[0m\u001B[1;33m:\u001B[0m\u001B[1;33m\u001B[0m\u001B[1;33m\u001B[0m\u001B[0m\n\u001B[0;32m     43\u001B[0m             \u001B[1;32mif\u001B[0m \u001B[0martist\u001B[0m\u001B[1;33m.\u001B[0m\u001B[0mget_agg_filter\u001B[0m\u001B[1;33m(\u001B[0m\u001B[1;33m)\u001B[0m \u001B[1;32mis\u001B[0m \u001B[1;32mnot\u001B[0m \u001B[1;32mNone\u001B[0m\u001B[1;33m:\u001B[0m\u001B[1;33m\u001B[0m\u001B[1;33m\u001B[0m\u001B[0m\n",
      "\u001B[1;32m~\\anaconda3\\envs\\simulations\\lib\\site-packages\\matplotlib\\cbook\\deprecation.py\u001B[0m in \u001B[0;36mwrapper\u001B[1;34m(*inner_args, **inner_kwargs)\u001B[0m\n\u001B[0;32m    409\u001B[0m                          \u001B[1;32melse\u001B[0m \u001B[0mdeprecation_addendum\u001B[0m\u001B[1;33m,\u001B[0m\u001B[1;33m\u001B[0m\u001B[1;33m\u001B[0m\u001B[0m\n\u001B[0;32m    410\u001B[0m                 **kwargs)\n\u001B[1;32m--> 411\u001B[1;33m         \u001B[1;32mreturn\u001B[0m \u001B[0mfunc\u001B[0m\u001B[1;33m(\u001B[0m\u001B[1;33m*\u001B[0m\u001B[0minner_args\u001B[0m\u001B[1;33m,\u001B[0m \u001B[1;33m**\u001B[0m\u001B[0minner_kwargs\u001B[0m\u001B[1;33m)\u001B[0m\u001B[1;33m\u001B[0m\u001B[1;33m\u001B[0m\u001B[0m\n\u001B[0m\u001B[0;32m    412\u001B[0m \u001B[1;33m\u001B[0m\u001B[0m\n\u001B[0;32m    413\u001B[0m     \u001B[1;32mreturn\u001B[0m \u001B[0mwrapper\u001B[0m\u001B[1;33m\u001B[0m\u001B[1;33m\u001B[0m\u001B[0m\n",
      "\u001B[1;32m~\\anaconda3\\envs\\simulations\\lib\\site-packages\\matplotlib\\axes\\_base.py\u001B[0m in \u001B[0;36mdraw\u001B[1;34m(self, renderer, inframe)\u001B[0m\n\u001B[0;32m   2745\u001B[0m             \u001B[0mrenderer\u001B[0m\u001B[1;33m.\u001B[0m\u001B[0mstop_rasterizing\u001B[0m\u001B[1;33m(\u001B[0m\u001B[1;33m)\u001B[0m\u001B[1;33m\u001B[0m\u001B[1;33m\u001B[0m\u001B[0m\n\u001B[0;32m   2746\u001B[0m \u001B[1;33m\u001B[0m\u001B[0m\n\u001B[1;32m-> 2747\u001B[1;33m         \u001B[0mmimage\u001B[0m\u001B[1;33m.\u001B[0m\u001B[0m_draw_list_compositing_images\u001B[0m\u001B[1;33m(\u001B[0m\u001B[0mrenderer\u001B[0m\u001B[1;33m,\u001B[0m \u001B[0mself\u001B[0m\u001B[1;33m,\u001B[0m \u001B[0martists\u001B[0m\u001B[1;33m)\u001B[0m\u001B[1;33m\u001B[0m\u001B[1;33m\u001B[0m\u001B[0m\n\u001B[0m\u001B[0;32m   2748\u001B[0m \u001B[1;33m\u001B[0m\u001B[0m\n\u001B[0;32m   2749\u001B[0m         \u001B[0mrenderer\u001B[0m\u001B[1;33m.\u001B[0m\u001B[0mclose_group\u001B[0m\u001B[1;33m(\u001B[0m\u001B[1;34m'axes'\u001B[0m\u001B[1;33m)\u001B[0m\u001B[1;33m\u001B[0m\u001B[1;33m\u001B[0m\u001B[0m\n",
      "\u001B[1;32m~\\anaconda3\\envs\\simulations\\lib\\site-packages\\matplotlib\\image.py\u001B[0m in \u001B[0;36m_draw_list_compositing_images\u001B[1;34m(renderer, parent, artists, suppress_composite)\u001B[0m\n\u001B[0;32m    129\u001B[0m     \u001B[1;32mif\u001B[0m \u001B[0mnot_composite\u001B[0m \u001B[1;32mor\u001B[0m \u001B[1;32mnot\u001B[0m \u001B[0mhas_images\u001B[0m\u001B[1;33m:\u001B[0m\u001B[1;33m\u001B[0m\u001B[1;33m\u001B[0m\u001B[0m\n\u001B[0;32m    130\u001B[0m         \u001B[1;32mfor\u001B[0m \u001B[0ma\u001B[0m \u001B[1;32min\u001B[0m \u001B[0martists\u001B[0m\u001B[1;33m:\u001B[0m\u001B[1;33m\u001B[0m\u001B[1;33m\u001B[0m\u001B[0m\n\u001B[1;32m--> 131\u001B[1;33m             \u001B[0ma\u001B[0m\u001B[1;33m.\u001B[0m\u001B[0mdraw\u001B[0m\u001B[1;33m(\u001B[0m\u001B[0mrenderer\u001B[0m\u001B[1;33m)\u001B[0m\u001B[1;33m\u001B[0m\u001B[1;33m\u001B[0m\u001B[0m\n\u001B[0m\u001B[0;32m    132\u001B[0m     \u001B[1;32melse\u001B[0m\u001B[1;33m:\u001B[0m\u001B[1;33m\u001B[0m\u001B[1;33m\u001B[0m\u001B[0m\n\u001B[0;32m    133\u001B[0m         \u001B[1;31m# Composite any adjacent images together\u001B[0m\u001B[1;33m\u001B[0m\u001B[1;33m\u001B[0m\u001B[1;33m\u001B[0m\u001B[0m\n",
      "\u001B[1;32m~\\anaconda3\\envs\\simulations\\lib\\site-packages\\matplotlib\\artist.py\u001B[0m in \u001B[0;36mdraw_wrapper\u001B[1;34m(artist, renderer, *args, **kwargs)\u001B[0m\n\u001B[0;32m     39\u001B[0m                 \u001B[0mrenderer\u001B[0m\u001B[1;33m.\u001B[0m\u001B[0mstart_filter\u001B[0m\u001B[1;33m(\u001B[0m\u001B[1;33m)\u001B[0m\u001B[1;33m\u001B[0m\u001B[1;33m\u001B[0m\u001B[0m\n\u001B[0;32m     40\u001B[0m \u001B[1;33m\u001B[0m\u001B[0m\n\u001B[1;32m---> 41\u001B[1;33m             \u001B[1;32mreturn\u001B[0m \u001B[0mdraw\u001B[0m\u001B[1;33m(\u001B[0m\u001B[0martist\u001B[0m\u001B[1;33m,\u001B[0m \u001B[0mrenderer\u001B[0m\u001B[1;33m,\u001B[0m \u001B[1;33m*\u001B[0m\u001B[0margs\u001B[0m\u001B[1;33m,\u001B[0m \u001B[1;33m**\u001B[0m\u001B[0mkwargs\u001B[0m\u001B[1;33m)\u001B[0m\u001B[1;33m\u001B[0m\u001B[1;33m\u001B[0m\u001B[0m\n\u001B[0m\u001B[0;32m     42\u001B[0m         \u001B[1;32mfinally\u001B[0m\u001B[1;33m:\u001B[0m\u001B[1;33m\u001B[0m\u001B[1;33m\u001B[0m\u001B[0m\n\u001B[0;32m     43\u001B[0m             \u001B[1;32mif\u001B[0m \u001B[0martist\u001B[0m\u001B[1;33m.\u001B[0m\u001B[0mget_agg_filter\u001B[0m\u001B[1;33m(\u001B[0m\u001B[1;33m)\u001B[0m \u001B[1;32mis\u001B[0m \u001B[1;32mnot\u001B[0m \u001B[1;32mNone\u001B[0m\u001B[1;33m:\u001B[0m\u001B[1;33m\u001B[0m\u001B[1;33m\u001B[0m\u001B[0m\n",
      "\u001B[1;32m~\\anaconda3\\envs\\simulations\\lib\\site-packages\\matplotlib\\axis.py\u001B[0m in \u001B[0;36mdraw\u001B[1;34m(self, renderer, *args, **kwargs)\u001B[0m\n\u001B[0;32m   1163\u001B[0m \u001B[1;33m\u001B[0m\u001B[0m\n\u001B[0;32m   1164\u001B[0m         \u001B[0mticks_to_draw\u001B[0m \u001B[1;33m=\u001B[0m \u001B[0mself\u001B[0m\u001B[1;33m.\u001B[0m\u001B[0m_update_ticks\u001B[0m\u001B[1;33m(\u001B[0m\u001B[1;33m)\u001B[0m\u001B[1;33m\u001B[0m\u001B[1;33m\u001B[0m\u001B[0m\n\u001B[1;32m-> 1165\u001B[1;33m         ticklabelBoxes, ticklabelBoxes2 = self._get_tick_bboxes(ticks_to_draw,\n\u001B[0m\u001B[0;32m   1166\u001B[0m                                                                 renderer)\n\u001B[0;32m   1167\u001B[0m \u001B[1;33m\u001B[0m\u001B[0m\n",
      "\u001B[1;32m~\\anaconda3\\envs\\simulations\\lib\\site-packages\\matplotlib\\axis.py\u001B[0m in \u001B[0;36m_get_tick_bboxes\u001B[1;34m(self, ticks, renderer)\u001B[0m\n\u001B[0;32m   1089\u001B[0m     \u001B[1;32mdef\u001B[0m \u001B[0m_get_tick_bboxes\u001B[0m\u001B[1;33m(\u001B[0m\u001B[0mself\u001B[0m\u001B[1;33m,\u001B[0m \u001B[0mticks\u001B[0m\u001B[1;33m,\u001B[0m \u001B[0mrenderer\u001B[0m\u001B[1;33m)\u001B[0m\u001B[1;33m:\u001B[0m\u001B[1;33m\u001B[0m\u001B[1;33m\u001B[0m\u001B[0m\n\u001B[0;32m   1090\u001B[0m         \u001B[1;34m\"\"\"Return lists of bboxes for ticks' label1's and label2's.\"\"\"\u001B[0m\u001B[1;33m\u001B[0m\u001B[1;33m\u001B[0m\u001B[0m\n\u001B[1;32m-> 1091\u001B[1;33m         return ([tick.label1.get_window_extent(renderer)\n\u001B[0m\u001B[0;32m   1092\u001B[0m                  for tick in ticks if tick.label1.get_visible()],\n\u001B[0;32m   1093\u001B[0m                 [tick.label2.get_window_extent(renderer)\n",
      "\u001B[1;32m~\\anaconda3\\envs\\simulations\\lib\\site-packages\\matplotlib\\axis.py\u001B[0m in \u001B[0;36m<listcomp>\u001B[1;34m(.0)\u001B[0m\n\u001B[0;32m   1089\u001B[0m     \u001B[1;32mdef\u001B[0m \u001B[0m_get_tick_bboxes\u001B[0m\u001B[1;33m(\u001B[0m\u001B[0mself\u001B[0m\u001B[1;33m,\u001B[0m \u001B[0mticks\u001B[0m\u001B[1;33m,\u001B[0m \u001B[0mrenderer\u001B[0m\u001B[1;33m)\u001B[0m\u001B[1;33m:\u001B[0m\u001B[1;33m\u001B[0m\u001B[1;33m\u001B[0m\u001B[0m\n\u001B[0;32m   1090\u001B[0m         \u001B[1;34m\"\"\"Return lists of bboxes for ticks' label1's and label2's.\"\"\"\u001B[0m\u001B[1;33m\u001B[0m\u001B[1;33m\u001B[0m\u001B[0m\n\u001B[1;32m-> 1091\u001B[1;33m         return ([tick.label1.get_window_extent(renderer)\n\u001B[0m\u001B[0;32m   1092\u001B[0m                  for tick in ticks if tick.label1.get_visible()],\n\u001B[0;32m   1093\u001B[0m                 [tick.label2.get_window_extent(renderer)\n",
      "\u001B[1;32m~\\anaconda3\\envs\\simulations\\lib\\site-packages\\matplotlib\\text.py\u001B[0m in \u001B[0;36mget_window_extent\u001B[1;34m(self, renderer, dpi)\u001B[0m\n\u001B[0;32m    900\u001B[0m \u001B[1;33m\u001B[0m\u001B[0m\n\u001B[0;32m    901\u001B[0m         \u001B[1;32mwith\u001B[0m \u001B[0mcbook\u001B[0m\u001B[1;33m.\u001B[0m\u001B[0m_setattr_cm\u001B[0m\u001B[1;33m(\u001B[0m\u001B[0mself\u001B[0m\u001B[1;33m.\u001B[0m\u001B[0mfigure\u001B[0m\u001B[1;33m,\u001B[0m \u001B[0mdpi\u001B[0m\u001B[1;33m=\u001B[0m\u001B[0mdpi\u001B[0m\u001B[1;33m)\u001B[0m\u001B[1;33m:\u001B[0m\u001B[1;33m\u001B[0m\u001B[1;33m\u001B[0m\u001B[0m\n\u001B[1;32m--> 902\u001B[1;33m             \u001B[0mbbox\u001B[0m\u001B[1;33m,\u001B[0m \u001B[0minfo\u001B[0m\u001B[1;33m,\u001B[0m \u001B[0mdescent\u001B[0m \u001B[1;33m=\u001B[0m \u001B[0mself\u001B[0m\u001B[1;33m.\u001B[0m\u001B[0m_get_layout\u001B[0m\u001B[1;33m(\u001B[0m\u001B[0mself\u001B[0m\u001B[1;33m.\u001B[0m\u001B[0m_renderer\u001B[0m\u001B[1;33m)\u001B[0m\u001B[1;33m\u001B[0m\u001B[1;33m\u001B[0m\u001B[0m\n\u001B[0m\u001B[0;32m    903\u001B[0m             \u001B[0mx\u001B[0m\u001B[1;33m,\u001B[0m \u001B[0my\u001B[0m \u001B[1;33m=\u001B[0m \u001B[0mself\u001B[0m\u001B[1;33m.\u001B[0m\u001B[0mget_unitless_position\u001B[0m\u001B[1;33m(\u001B[0m\u001B[1;33m)\u001B[0m\u001B[1;33m\u001B[0m\u001B[1;33m\u001B[0m\u001B[0m\n\u001B[0;32m    904\u001B[0m             \u001B[0mx\u001B[0m\u001B[1;33m,\u001B[0m \u001B[0my\u001B[0m \u001B[1;33m=\u001B[0m \u001B[0mself\u001B[0m\u001B[1;33m.\u001B[0m\u001B[0mget_transform\u001B[0m\u001B[1;33m(\u001B[0m\u001B[1;33m)\u001B[0m\u001B[1;33m.\u001B[0m\u001B[0mtransform\u001B[0m\u001B[1;33m(\u001B[0m\u001B[1;33m(\u001B[0m\u001B[0mx\u001B[0m\u001B[1;33m,\u001B[0m \u001B[0my\u001B[0m\u001B[1;33m)\u001B[0m\u001B[1;33m)\u001B[0m\u001B[1;33m\u001B[0m\u001B[1;33m\u001B[0m\u001B[0m\n",
      "\u001B[1;32m~\\anaconda3\\envs\\simulations\\lib\\site-packages\\matplotlib\\text.py\u001B[0m in \u001B[0;36m_get_layout\u001B[1;34m(self, renderer)\u001B[0m\n\u001B[0;32m    293\u001B[0m             \u001B[0mclean_line\u001B[0m\u001B[1;33m,\u001B[0m \u001B[0mismath\u001B[0m \u001B[1;33m=\u001B[0m \u001B[0mself\u001B[0m\u001B[1;33m.\u001B[0m\u001B[0m_preprocess_math\u001B[0m\u001B[1;33m(\u001B[0m\u001B[0mline\u001B[0m\u001B[1;33m)\u001B[0m\u001B[1;33m\u001B[0m\u001B[1;33m\u001B[0m\u001B[0m\n\u001B[0;32m    294\u001B[0m             \u001B[1;32mif\u001B[0m \u001B[0mclean_line\u001B[0m\u001B[1;33m:\u001B[0m\u001B[1;33m\u001B[0m\u001B[1;33m\u001B[0m\u001B[0m\n\u001B[1;32m--> 295\u001B[1;33m                 w, h, d = renderer.get_text_width_height_descent(\n\u001B[0m\u001B[0;32m    296\u001B[0m                     clean_line, self._fontproperties, ismath=ismath)\n\u001B[0;32m    297\u001B[0m             \u001B[1;32melse\u001B[0m\u001B[1;33m:\u001B[0m\u001B[1;33m\u001B[0m\u001B[1;33m\u001B[0m\u001B[0m\n",
      "\u001B[1;32m~\\anaconda3\\envs\\simulations\\lib\\site-packages\\matplotlib\\backends\\backend_pgf.py\u001B[0m in \u001B[0;36mget_text_width_height_descent\u001B[1;34m(self, s, prop, ismath)\u001B[0m\n\u001B[0;32m    736\u001B[0m \u001B[1;33m\u001B[0m\u001B[0m\n\u001B[0;32m    737\u001B[0m         \u001B[1;31m# get text metrics in units of latex pt, convert to display units\u001B[0m\u001B[1;33m\u001B[0m\u001B[1;33m\u001B[0m\u001B[1;33m\u001B[0m\u001B[0m\n\u001B[1;32m--> 738\u001B[1;33m         w, h, d = (LatexManager._get_cached_or_new()\n\u001B[0m\u001B[0;32m    739\u001B[0m                    .get_width_height_descent(s, prop))\n\u001B[0;32m    740\u001B[0m         \u001B[1;31m# TODO: this should be latex_pt_to_in instead of mpl_pt_to_in\u001B[0m\u001B[1;33m\u001B[0m\u001B[1;33m\u001B[0m\u001B[1;33m\u001B[0m\u001B[0m\n",
      "\u001B[1;32m~\\anaconda3\\envs\\simulations\\lib\\site-packages\\matplotlib\\backends\\backend_pgf.py\u001B[0m in \u001B[0;36mget_width_height_descent\u001B[1;34m(self, text, prop)\u001B[0m\n\u001B[0;32m    347\u001B[0m             \u001B[0mself\u001B[0m\u001B[1;33m.\u001B[0m\u001B[0m_expect_prompt\u001B[0m\u001B[1;33m(\u001B[0m\u001B[1;33m)\u001B[0m\u001B[1;33m\u001B[0m\u001B[1;33m\u001B[0m\u001B[0m\n\u001B[0;32m    348\u001B[0m         \u001B[1;32mexcept\u001B[0m \u001B[0mLatexError\u001B[0m \u001B[1;32mas\u001B[0m \u001B[0me\u001B[0m\u001B[1;33m:\u001B[0m\u001B[1;33m\u001B[0m\u001B[1;33m\u001B[0m\u001B[0m\n\u001B[1;32m--> 349\u001B[1;33m             raise ValueError(\"Error processing '{}'\\nLaTeX Output:\\n{}\"\n\u001B[0m\u001B[0;32m    350\u001B[0m                              .format(text, e.latex_output)) from e\n\u001B[0;32m    351\u001B[0m \u001B[1;33m\u001B[0m\u001B[0m\n",
      "\u001B[1;31mValueError\u001B[0m: Error processing '\\(\\displaystyle {−20}\\)'\nLaTeX Output:\n\n! Package inputenc Error: Unicode character − (U+2212)\n(inputenc)                not set up for use with LaTeX.\n\nSee the inputenc package documentation for explanation.\nType  H <return>  for immediate help.\n ...                                              \n                                                  \n<*> ...0000}\\selectfont \\(\\displaystyle {−20}\\)}\n                                                  \n!  ==> Fatal error occurred, no output PDF file produced!\nTranscript written on texput.log.\n"
     ]
    }
   ],
   "source": [
    "import matplotlib.pyplot as plt\n",
    "import matplotlib\n",
    "matplotlib.use(\"pgf\")\n",
    "matplotlib.rcParams.update({\n",
    "    \"pgf.texsystem\": \"pdflatex\",\n",
    "    'font.family': 'serif',\n",
    "    'text.usetex': True,\n",
    "    'pgf.rcfonts': False,\n",
    "})\n",
    "sims = cp.asnumpy(sims)\n",
    "x_points = cp.asnumpy(x_points)\n",
    "plt.plot(x_points, sims[:, 0], label=\"Continuous time\")\n",
    "plt.plot(x_points, sims[:, 1], label=\"First order approximation\")\n",
    "plt.plot(x_points, sims[:, 2], label=\"Second order approximation\")\n",
    "plt.plot(x_points, sims[:, 3], label=\"Monte-carlo simulations\")\n",
    "\n",
    "plt.xlabel(\"m\")\n",
    "plt.ylabel(\"price\")\n",
    "plt.title(\"Prices of different approximations\")\n",
    "plt.legend()\n",
    "plt.grid()\n",
    "plt.show()\n",
    "plt.savefig('histogram.pgf')\n",
    "\n",
    "print(sims[79])"
   ],
   "metadata": {
    "collapsed": false,
    "pycharm": {
     "name": "#%%\n"
    }
   }
  },
  {
   "cell_type": "code",
   "execution_count": 41,
   "outputs": [
    {
     "name": "stdout",
     "output_type": "stream",
     "text": [
      "[15.35255547 13.12034315 13.24908913 13.23602936]\n",
      "[[12.20843054 12.46603994 12.44172872]\n",
      " [13.12034315 13.24908913 13.23602936]\n",
      " [13.52670075 13.61251401 13.60421283]\n",
      " [13.76963219 13.83398434 13.83513119]\n",
      " [13.93571506 13.98719253 13.98795415]]\n",
      "m   First order Second order Monte-carlo\n",
      "20     12.20843     12.46604    12.44173\n",
      "40     13.12034     13.24909    13.23603\n",
      "60      13.5267     13.61251    13.60421\n",
      "80     13.76963     13.83398    13.83513\n",
      "100    13.93572     13.98719    13.98795\n"
     ]
    }
   ],
   "source": [
    "import pandas as pd\n",
    "# Table of every 20 points, note first point is m = 1\n",
    "print(sims[39])\n",
    "m_points = cp.array(range(19,100,20))\n",
    "m_points = cp.asnumpy(m_points)\n",
    "print(sims[m_points, 1:])\n",
    "df = pd.DataFrame(np.round(sims[m_points, 1:], 5), index=m_points+1, columns=[\"First order\", \"Second order\"\n",
    "                                                                ,\"Monte-carlo\"])\n",
    "df = df.rename_axis(\"m\")\n",
    "df.columns.name = df.index.name\n",
    "df.index.name = None  # Makes m align with the column names\n",
    "print(df)\n",
    "\n",
    "df.to_latex('differentPricesTable.tex')"
   ],
   "metadata": {
    "collapsed": false,
    "pycharm": {
     "name": "#%%\n"
    }
   }
  },
  {
   "cell_type": "code",
   "execution_count": 38,
   "outputs": [],
   "source": [
    "r_ = -0.005\n",
    "sigma = 0.3\n",
    "T = 0.5\n",
    "S_0 = 100\n",
    "x_points = cp.arange(1, 101)\n",
    "sims = cp.zeros((x_points.size, 4))\n",
    "for i in range(0, x_points.size):\n",
    "    m = i+1\n",
    "    sims[i,:] = cp.array([own_first_order_approx_inf_horizon(S_0, r_, sigma, T, m), own_first_order_approx_MC(S_0, r_, sigma, T, 1000000, m)\n",
    "        , broadie_first_order_approx(S_0, r_, sigma, T, m), sim_price_lookback_put(S_0, r_, sigma, T, 10000000, m)[0]], dtype=\"float32\")\n",
    "sims = cp.asnumpy(sims)\n",
    "x_points = cp.asnumpy(x_points)\n",
    "np.save(\"firstOrderApproximations\", sims)\n",
    "np.save(\"x_pointsfirstOrderApproximations\", x_points)"
   ],
   "metadata": {
    "collapsed": false,
    "pycharm": {
     "name": "#%% Create the plots for first order approximations here\n"
    }
   }
  },
  {
   "cell_type": "code",
   "execution_count": 41,
   "outputs": [
    {
     "name": "stderr",
     "output_type": "stream",
     "text": [
      "<ipython-input-41-242b8c9c5e4e>:23: UserWarning: Matplotlib is currently using pgf, which is a non-GUI backend, so cannot show the figure.\n",
      "  plt.show()\n"
     ]
    }
   ],
   "source": [
    "sims = np.load(\"firstOrderApproximations.npy\")\n",
    "x_points = np.load(\"x_pointsfirstOrderApproximations.npy\")\n",
    "import matplotlib.pyplot as plt\n",
    "import matplotlib\n",
    "# matplotlib.use(\"pgf\")\n",
    "# matplotlib.rcParams.update({\n",
    "#     \"pgf.texsystem\": \"pdflatex\",\n",
    "#     'font.family': 'serif',\n",
    "#     'text.usetex': True,\n",
    "#     'pgf.rcfonts': False,\n",
    "# })\n",
    "plt.plot(x_points, sims[:, 0], label=\"Numerical + inf. horizon\")\n",
    "plt.plot(x_points, sims[:, 1], label=\"Numerical + MC\")\n",
    "plt.plot(x_points, sims[:, 2], label=\"Theorem 2\")\n",
    "plt.plot(x_points, sims[:, 3], label=\"Monte-carlo simulations\")\n",
    "\n",
    "plt.xlabel(\"m\")\n",
    "plt.ylabel(\"price\")\n",
    "plt.title(\"Prices of different first order approximations\")\n",
    "plt.legend()\n",
    "plt.grid()\n",
    "\n",
    "plt.show()\n",
    "# plt.savefig('firstOrderApproximations.pgf')"
   ],
   "metadata": {
    "collapsed": false,
    "pycharm": {
     "name": "#%% # Load data and make plot\n"
    }
   }
  },
  {
   "cell_type": "code",
   "execution_count": 39,
   "outputs": [],
   "source": [
    "# first order approximations with different parameters\n",
    "\n",
    "r_ = -0.1\n",
    "sigma = 0.5\n",
    "T = 5\n",
    "S_0 = 100\n",
    "x_points = cp.arange(1, 101)\n",
    "sims = cp.zeros((x_points.size, 4))\n",
    "for i in range(0, x_points.size):\n",
    "    m = i+1\n",
    "    sims[i,:] = cp.array([own_first_order_approx_inf_horizon(S_0, r_, sigma, T, m), own_first_order_approx_MC(S_0, r_, sigma, T, 1000000, m)\n",
    "        , broadie_first_order_approx(S_0, r_, sigma, T, m), sim_price_lookback_put(S_0, r_, sigma, T, 10000000, m)[0]], dtype=\"float32\")\n",
    "sims = cp.asnumpy(sims)\n",
    "x_points = cp.asnumpy(x_points)\n",
    "np.save(\"firstOrderApproximationsPic2\", sims)\n",
    "np.save(\"x_pointsfirstOrderApproximationsPic2\", x_points)"
   ],
   "metadata": {
    "collapsed": false,
    "pycharm": {
     "name": "#%%\n"
    }
   }
  },
  {
   "cell_type": "code",
   "execution_count": 40,
   "outputs": [
    {
     "name": "stderr",
     "output_type": "stream",
     "text": [
      "<ipython-input-40-00add435194d>:23: UserWarning: Matplotlib is currently using pgf, which is a non-GUI backend, so cannot show the figure.\n",
      "  plt.show()\n"
     ]
    }
   ],
   "source": [
    "sims = np.load(\"firstOrderApproximationsPic2.npy\")\n",
    "x_points = np.load(\"x_pointsfirstOrderApproximationsPic2.npy\")\n",
    "import matplotlib.pyplot as plt\n",
    "import matplotlib\n",
    "# matplotlib.use(\"pgf\")\n",
    "# matplotlib.rcParams.update({\n",
    "#     \"pgf.texsystem\": \"pdflatex\",\n",
    "#     'font.family': 'serif',\n",
    "#     'text.usetex': True,\n",
    "#     'pgf.rcfonts': False,\n",
    "# })\n",
    "plt.plot(x_points, sims[:, 0], label=\"Numerical + inf. horizon\")\n",
    "plt.plot(x_points, sims[:, 1], label=\"Numerical + MC\")\n",
    "plt.plot(x_points, sims[:, 2], label=\"Theorem 2\")\n",
    "plt.plot(x_points, sims[:, 3], label=\"Monte-carlo simulations\")\n",
    "\n",
    "plt.xlabel(\"m\")\n",
    "plt.ylabel(\"price\")\n",
    "plt.title(\"Prices of different first order approximations\")\n",
    "plt.legend()\n",
    "plt.grid()\n",
    "\n",
    "plt.show()\n",
    "# plt.savefig('firstOrderApproximations.pgf')"
   ],
   "metadata": {
    "collapsed": false,
    "pycharm": {
     "name": "#%% # Load data and make plot\n"
    }
   }
  },
  {
   "cell_type": "code",
   "execution_count": 26,
   "outputs": [],
   "source": [
    "# TODOOOO KIJKEN NAAR relative error van continue prijs tov de echte discrete prijs.\n",
    "# HANGT DIT AF VAN PARAMETERS??!?!??! GAAT VOORAL OVER m van 50 -> 200, paar plotjes en met random distributies doen.\n",
    "# U GOT THIS (LATER KUNNEN DE PLOTJES NOGMOOI GEMAAKTWORDEN, zie HUGO zijn ding\n",
    "\n",
    "r_ = 0.05\n",
    "sigma = 0.3\n",
    "T = 0.5\n",
    "S_0 = 100\n",
    "# First the plot with r deviating\n",
    "r_points = np.array([-0.5, -0.2,-0.05,0.002, 0.05, 0.1, 0.15, 0.20])\n",
    "x_points = np.arange(10, 101, 2)\n",
    "sims = cp.zeros((x_points.size, r_points.size))\n",
    "for i,  m in enumerate(x_points):\n",
    "    for idx, r_ in enumerate(r_points): # TODO REDO THIS CHART N = 10m instead of 1m\n",
    "        #disc_price = sim_price_lookback_put(S_0, r_, sigma, T, 1000000, m)[0]\n",
    "        disc_price = broadie_second_order_approx(S_0, r_, sigma, T, m)\n",
    "        cont_price = exact_price_cont_time(S_0, r_, sigma, T)\n",
    "        sims[i,idx] = (cont_price - disc_price)/disc_price\n",
    "sims = cp.asnumpy(sims)\n",
    "np.save(\"relativeErrorr_deviations\", sims)\n",
    "np.save(\"x_pointsRelativeErrorr_deviations\", x_points)"
   ],
   "metadata": {
    "collapsed": false,
    "pycharm": {
     "name": "#%%\n"
    }
   }
  },
  {
   "cell_type": "code",
   "execution_count": 27,
   "outputs": [
    {
     "data": {
      "text/plain": "<Figure size 432x288 with 1 Axes>",
      "image/png": "[encoded data removed]"
     },
     "metadata": {
      "needs_background": "light"
     },
     "output_type": "display_data"
    }
   ],
   "source": [
    "# A plot differing r_\n",
    "sims = np.load(\"relativeErrorr_deviations.npy\")\n",
    "x_points = np.load(\"x_pointsRelativeErrorr_deviations.npy\")\n",
    "import matplotlib.pyplot as plt\n",
    "import matplotlib\n",
    "# matplotlib.use(\"pgf\")\n",
    "# matplotlib.rcParams.update({\n",
    "#     \"pgf.texsystem\": \"pdflatex\",\n",
    "#     'font.family': 'serif',\n",
    "#     'text.usetex': True,\n",
    "#     'pgf.rcfonts': False,\n",
    "# })\n",
    "for idx, r_ in enumerate(r_points):\n",
    "    plt.plot(x_points, sims[:, idx], label=f\"r={r_}\")\n",
    "\n",
    "plt.xlabel(\"m\")\n",
    "plt.ylabel(\"Relative Error\")\n",
    "plt.title(\"Prices of different first order approximations\")\n",
    "plt.legend()\n",
    "plt.grid()\n",
    "\n",
    "plt.show()\n",
    "# TODO this code needs to be finished with my pc, because laptop is too slow. Also add picture for sigma and other T and for\n",
    "# Changing two parameters add once, but probably Second order approximation is necessary."
   ],
   "metadata": {
    "collapsed": false,
    "pycharm": {
     "name": "#%%\n"
    }
   }
  },
  {
   "cell_type": "code",
   "execution_count": 15,
   "outputs": [],
   "source": [
    "# This looks at convergence speed for large m.\n",
    "\n",
    "r_ = 0.05\n",
    "sigma = 0.3\n",
    "T = 0.5\n",
    "S_0 = 100\n",
    "x_points = np.logspace(0, 10, 1000, dtype=\"uint\")\n",
    "sims = np.zeros(x_points.size)\n",
    "for i,  m in enumerate(x_points):\n",
    "    #disc_price = sim_price_lookback_put(S_0, r_, sigma, T, 1000000, m)[0]\n",
    "    disc_price = broadie_second_order_approx(S_0, r_, sigma, T, m)\n",
    "    cont_price = exact_price_cont_time(S_0, r_, sigma, T)\n",
    "    sims[i] = (cont_price - disc_price)/disc_price\n",
    "import matplotlib.pyplot as plt\n",
    "import matplotlib\n",
    "matplotlib.use(\"pgf\")\n",
    "matplotlib.rcParams.update({\n",
    "    \"pgf.texsystem\": \"pdflatex\",\n",
    "    'font.family': 'serif',\n",
    "    'text.usetex': True,\n",
    "    'pgf.rcfonts': False,\n",
    "})\n",
    "fig, ax = plt.subplots()\n",
    "plt.plot(x_points, sims, label=\"RE\")\n",
    "ax.loglog()\n",
    "plt.xlabel(\"m\")\n",
    "plt.ylabel(\"Relative Error\")\n",
    "plt.title(\"Error of continuous price compared to discrete price\")\n",
    "plt.legend()\n",
    "plt.grid()\n",
    "plt.yscale(\"log\")\n",
    "plt.xscale(\"log\")\n",
    "plt.savefig(\"convergenceRelativeErrorContinuous.pgf\")"
   ],
   "metadata": {
    "collapsed": false,
    "pycharm": {
     "name": "#%%\n"
    }
   }
  },
  {
   "cell_type": "code",
   "execution_count": 32,
   "outputs": [
    {
     "name": "stdout",
     "output_type": "stream",
     "text": [
      "0.050143148728270144\n"
     ]
    }
   ],
   "source": [
    "# Calculate the relative error distribution for different random parameters for large m\n",
    "N = 1000000 # Number of samples\n",
    "r_draws = np.random.uniform(-0.05, 0.25, N)\n",
    "sigma_draws = np.random.uniform(0.05, 0.5, N)\n",
    "T_draws = np.random.uniform(0.1, 5, N)\n",
    "S_0 = 100\n",
    "x_points = np.array([10**2, 10**3, 10**4, 10**5, 10**6])\n",
    "sims = np.zeros((N, x_points.size))\n",
    "for i,  m in enumerate(x_points):\n",
    "    disc_price = broadie_second_order_approx(S_0, r_draws, sigma_draws, T_draws, m)\n",
    "    cont_price = exact_price_cont_time(S_0, r_draws, sigma_draws, T_draws)\n",
    "    sims[:, i] = (cont_price - disc_price)/disc_price\n",
    "print(np.mean(sims[:,1]))"
   ],
   "metadata": {
    "collapsed": false,
    "pycharm": {
     "name": "#%%\n"
    }
   }
  },
  {
   "cell_type": "code",
   "execution_count": 37,
   "outputs": [],
   "source": [
    "# generate the plots and table\n",
    "import pandas as pd\n",
    "m_points = x_points\n",
    "data = np.array([np.mean(sims, axis=0),np.std(sims, axis=0),np.median(sims, axis=0)]).T\n",
    "df = pd.DataFrame(np.round(data, 5), index=m_points, columns=[\"Mean\", \"Std\", \"Median\"])\n",
    "df = df.rename_axis(\"m\")\n",
    "df.columns.name = df.index.name\n",
    "df.index.name = None  # Makes m align with the column names\n",
    "df.to_latex(\"randomParametersRelativeErrorContPriceLargem.tex\")\n",
    "import matplotlib.pyplot as plt\n",
    "import matplotlib\n",
    "matplotlib.use(\"pgf\")\n",
    "matplotlib.rcParams.update({\n",
    "    \"pgf.texsystem\": \"pdflatex\",\n",
    "    'font.family': 'serif',\n",
    "    'text.usetex': True,\n",
    "    'pgf.rcfonts': False,\n",
    "    \"axes.unicode_minus\": False\n",
    "})\n",
    "fig, ax = plt.subplots()\n",
    "weights = np.ones_like(sims[:,3]) / len(sims[:,3])\n",
    "ax.hist(sims[:,3], weights=weights, bins=100)\n",
    "ax.set_title(\"Histogram of relative error\")\n",
    "ax.set_xlabel(\"Relative Error\")\n",
    "fig.savefig(\"distributionRandomParametersLargem.pgf\")"
   ],
   "metadata": {
    "collapsed": false,
    "pycharm": {
     "name": "#%%\n"
    }
   }
  },
  {
   "cell_type": "code",
   "execution_count": 3,
   "outputs": [],
   "source": [
    "# Generate same plot as introduction but with a confidence interval and also a table\n",
    "r_ = 0.1\n",
    "sigma = 0.3\n",
    "T = 0.5\n",
    "S_0 = 100\n",
    "N = 10000000"
   ],
   "metadata": {
    "collapsed": false,
    "pycharm": {
     "name": "#%%\n"
    }
   }
  },
  {
   "cell_type": "code",
   "execution_count": null,
   "outputs": [],
   "source": [
    "x_points = np.arange(1, 101)\n",
    "sims = cp.zeros((x_points.size, 4))\n",
    "for i, m in enumerate(x_points):\n",
    "    sims[i,0], max_gbws = sim_price_lookback_put(S_0, r_, sigma, T, N, m)\n",
    "    sims[i,1] = cp.std(cp.exp(-r_ * T) * max_gbws * S_0 - S_0)\n",
    "    sims[i,2], max_gbws = sim_price_lookback_put(S_0, r_, sigma, T, N//100, m)\n",
    "    sims[i,3] = cp.std(cp.exp(-r_ * T) * max_gbws * S_0 - S_0)\n",
    "\n",
    "sims = cp.asnumpy(sims)\n",
    "np.save(\"monteCarloWithConfidenceInterval\", sims)\n",
    "np.save(\"m_pointsMonteCarloWithConfidenceInterval\", x_points)"
   ],
   "metadata": {
    "collapsed": false,
    "pycharm": {
     "name": "#%%\n"
    }
   }
  },
  {
   "cell_type": "code",
   "execution_count": 30,
   "outputs": [],
   "source": [
    "import matplotlib.pyplot as plt\n",
    "import matplotlib\n",
    "sims = np.load(\"monteCarloWithConfidenceInterval.npy\")\n",
    "m_points = np.load(\"m_pointsMonteCarloWithConfidenceInterval.npy\")\n",
    "matplotlib.use(\"pgf\")\n",
    "matplotlib.rcParams.update({\n",
    "    \"pgf.texsystem\": \"pdflatex\",\n",
    "    'font.family': 'serif',\n",
    "    'text.usetex': True,\n",
    "    'pgf.rcfonts': False,\n",
    "})\n",
    "fig, ax = plt.subplots()\n",
    "ax.plot(m_points[50:],sims[50:,0], label=\"N=10m\")\n",
    "ci = sims[50:,1]/np.sqrt(N)\n",
    "ax.fill_between(m_points[50:], (sims[50:,0]-1.96*ci), (sims[50:,0]+1.96*ci), color='b', alpha=.2)\n",
    "ax.plot(m_points[50:],sims[50:,2],label=\"N=100000\")\n",
    "ci = sims[50:,3]/np.sqrt(N/100)\n",
    "ax.fill_between(m_points[50:], (sims[50:,2]-1.96*ci), (sims[50:,2]+1.96*ci), color='r', alpha=.1)\n",
    "plt.grid()\n",
    "ax.set_xlabel(\"m\")\n",
    "ax.set_ylabel(\"Price\")\n",
    "ax.legend(loc=\"upper left\")\n",
    "ax.set_title(\"Monte Carlo estimations with 95% confidence interval\")\n",
    "plt.savefig(\"MonteCarloEstWith95CI.pgf\")\n",
    "# Create the table\n",
    "import pandas as pd\n",
    "sims = sims[:, [0,1]]\n",
    "sims[:,1] = sims[:,1]/np.sqrt(N)\n",
    "sims = np.c_[sims, sims[:,0] - 1.96 * sims[:,1],sims[:,0] + 1.96 * sims[:,1]]\n",
    "sims = sims[19::20]\n",
    "df = pd.DataFrame(np.round(sims, 5), index=m_points[19::20], columns=[\"Mean\", \"S.E.\", \"95% lower limit\", \"95% higher limit\"])\n",
    "df = df.rename_axis(\"m\")\n",
    "df.columns.name = df.index.name\n",
    "df.index.name = None  # Makes m align with the column names\n",
    "df.to_latex(\"TableMonteCarloWithCI.tex\")"
   ],
   "metadata": {
    "collapsed": false,
    "pycharm": {
     "name": "#%%\n"
    }
   }
  },
  {
   "cell_type": "code",
   "execution_count": 3,
   "outputs": [
    {
     "name": "stdout",
     "output_type": "stream",
     "text": [
      "1\n",
      "11\n",
      "21\n",
      "31\n",
      "41\n"
     ]
    }
   ],
   "source": [
    "from timeit import default_timer as timer\n",
    "# Generate time plots\n",
    "r_ = 0.05\n",
    "sigma = 0.3\n",
    "T = 0.5\n",
    "S_0 = 100\n",
    "N_true = 100000000 # 1 billion draws to simulate the \"true\" price\n",
    "\n",
    "m_points = np.arange(1, 101, 2)\n",
    "sims = np.zeros((m_points.size, 4)) # Contains mean est, the std and broadie second-order approx\n",
    "for i, m in enumerate(m_points):\n",
    "    start = timer()\n",
    "    sims[i,0], max_gbws = sim_price_lookback_put(S_0, r_, sigma, T, N_true, m)\n",
    "    sims[i,3] = timer() - start\n",
    "    std_est = cp.sqrt(cp.mean(max_gbws**2, dtype=\"float64\") - cp.mean(max_gbws, dtype=\"float64\")**2)\n",
    "    sims[i,1] = np.exp(-r_ * T) * std_est.item() * S_0\n",
    "    max_gbws = None\n",
    "    sims[i,2] = broadie_second_order_approx(S_0, r_, sigma, T, m)\n",
    "    if i % 10 == 1:\n",
    "        print(i)\n",
    "np.save(\"simulationsForTimeGraph\", sims)"
   ],
   "metadata": {
    "collapsed": false,
    "pycharm": {
     "name": "#%%\n"
    }
   }
  },
  {
   "cell_type": "code",
   "execution_count": 10,
   "outputs": [
    {
     "data": {
      "text/plain": "[<matplotlib.lines.Line2D at 0x26eca5cadf0>]"
     },
     "execution_count": 10,
     "metadata": {},
     "output_type": "execute_result"
    },
    {
     "data": {
      "text/plain": "<Figure size 432x288 with 1 Axes>",
      "image/png": "[encoded data removed]"
     },
     "metadata": {
      "needs_background": "light"
     },
     "output_type": "display_data"
    }
   ],
   "source": [
    "# Do calculations and plot graph\n",
    "sims = np.load(\"simulationsForTimeGraph.npy\")\n",
    "second_order_approx_error = np.abs(sims[:,2] - sims[:, 0])\n",
    "N_equivalent = (1.96 * sims[:,1]/second_order_approx_error)**2   # The N for which the error is at most the Monte Carlo error with 95% prob\n",
    "import matplotlib.pyplot as plt\n",
    "plt.yscale(\"log\")\n",
    "plt.plot(m_points, N_equivalent)"
   ],
   "metadata": {
    "collapsed": false,
    "pycharm": {
     "name": "#%%\n"
    }
   }
  },
  {
   "cell_type": "code",
   "execution_count": null,
   "outputs": [],
   "source": [
    "from timeit import default_timer as timer\n",
    "# Generate time plots\n",
    "r_ = 0.05\n",
    "sigma = 0.3\n",
    "T = 0.5\n",
    "S_0 = 100\n",
    "N_true = 1000000000 # 1 billion draws to simulate the \"true\" price\n",
    "\n",
    "m_points = np.arange(1, 101, 2)\n",
    "sims = np.zeros((m_points.size, 4)) # Contains mean est, the std and broadie second-order approx\n",
    "for i, m in enumerate(m_points):\n",
    "    start = timer()\n",
    "    current_mean_price = 0\n",
    "    sumOfSquares = 0\n",
    "    sumOfEach = 0\n",
    "    steps = N_true // 100000000\n",
    "    if N_true % 100000000 != 0:\n",
    "        raise Exception(\"N_true multiple of 100 million\")\n",
    "    for j in range(steps):\n",
    "        new_price, max_gbws = sim_price_lookback_put(S_0, r_, sigma, T, N_true//steps, m)\n",
    "        current_mean_price += 1/steps * new_price\n",
    "        sumOfSquares += cp.sum(max_gbws**2, dtype=\"float64\")\n",
    "        sumOfEach += cp.sum(max_gbws, dtype=\"float64\")\n",
    "        max_gbws = None\n",
    "    std_est = cp.sqrt(sumOfSquares/N_true - (sumOfEach/N_true)**2)\n",
    "    sims[i,3] = timer() - start\n",
    "    sims[i,1] = np.exp(-r_ * T) * std_est.item() * S_0\n",
    "    sims[i,2] = broadie_second_order_approx(S_0, r_, sigma, T, m)\n",
    "    if i % 10 == 1:\n",
    "        print(i)\n",
    "np.save(\"simulationsForTimeGraph\", sims)"
   ],
   "metadata": {
    "collapsed": false,
    "pycharm": {
     "name": "#%% # WTKKK\n"
    }
   }
  }
 ],
 "metadata": {
  "kernelspec": {
   "name": "python3",
   "language": "python",
   "display_name": "Python 3"
  },
  "language_info": {
   "codemirror_mode": {
    "name": "ipython",
    "version": 2
   },
   "file_extension": ".py",
   "mimetype": "text/x-python",
   "name": "python",
   "nbconvert_exporter": "python",
   "pygments_lexer": "ipython2",
   "version": "2.7.6"
  }
 },
 "nbformat": 4,
 "nbformat_minor": 0
}