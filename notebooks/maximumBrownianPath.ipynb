{
 "cells": [
  {
   "cell_type": "code",
   "execution_count": 59,
   "metadata": {
    "collapsed": true
   },
   "outputs": [],
   "source": [
    "import numpy as np\n",
    "# Set parameters\n",
    "sigma = 0.2\n",
    "r_ = 0\n",
    "drift = r_ - 0.5 * sigma**2\n",
    "T = 1\n",
    "m = 10\n",
    "delta_t = T / m\n",
    "N = 10000000 # number of simulations\n",
    "# Number of RV we simulate is N * m"
   ]
  },
  {
   "cell_type": "code",
   "execution_count": 58,
   "outputs": [
    {
     "name": "stdout",
     "output_type": "stream",
     "text": [
      "Probability of maximum 0 is about 0.0014952, with sd 1.2218692143433356e-05\n",
      "Hence 95% CI: [0.0014712513633988705, 0.0015191486366011293\n"
     ]
    }
   ],
   "source": [
    "# Generate paths, note we skip time 0\n",
    "x = np.linspace(drift * delta_t, drift * T, m)\n",
    "sims = np.random.normal(0, sigma * T**0.5, (N, m)) # note scale param is sd not var\n",
    "y = x + sims\n",
    "\n",
    "res = np.any(y > 0, axis=1)\n",
    "\n",
    "prob = np.sum(~res) / N\n",
    "sd = (prob * (1 - prob) / N)**0.5\n",
    "print(f\"Probability of maximum 0 is about {prob}, with sd {sd}\")\n",
    "print(f\"Hence 95% CI: [{prob - 1.96 * sd}, {prob + 1.96 * sd}\")"
   ],
   "metadata": {
    "collapsed": false,
    "pycharm": {
     "name": "#%%\n"
    }
   }
  },
  {
   "cell_type": "code",
   "execution_count": null,
   "outputs": [],
   "source": [
    "# Now we will estimate B2 of the paper Broadie 1999\n",
    "sigma = 1\n",
    "T = 1\n",
    "m = 100\n",
    "M = 1000 # this is BM path, above is discrete\n",
    "N = 1\n",
    "drift = r_ - 0.5 * sigma**2\n",
    "delta_t = T = M\n",
    "\n",
    "BM_path = np.linspace(drift * delta_t, drift * T, M)\n"
   ],
   "metadata": {
    "collapsed": false,
    "pycharm": {
     "name": "#%%\n"
    }
   }
  }
 ],
 "metadata": {
  "kernelspec": {
   "display_name": "Python 3",
   "language": "python",
   "name": "python3"
  },
  "language_info": {
   "codemirror_mode": {
    "name": "ipython",
    "version": 2
   },
   "file_extension": ".py",
   "mimetype": "text/x-python",
   "name": "python",
   "nbconvert_exporter": "python",
   "pygments_lexer": "ipython2",
   "version": "2.7.6"
  }
 },
 "nbformat": 4,
 "nbformat_minor": 0
}