{
 "cells": [
  {
   "cell_type": "code",
   "execution_count": 96,
   "metadata": {
    "collapsed": true
   },
   "outputs": [],
   "source": [
    "import numpy as np\n",
    "# Set parameters\n",
    "sigma = 0.2\n",
    "r_ = 0\n",
    "drift = r_ - 0.5 * sigma**2\n",
    "T = 1\n",
    "m = 10\n",
    "delta_t = T / m\n",
    "N = 10000000 # number of simulations\n",
    "# Number of RV we simulate is N * m"
   ]
  },
  {
   "cell_type": "code",
   "execution_count": 97,
   "outputs": [
    {
     "name": "stdout",
     "output_type": "stream",
     "text": [
      "Probability of maximum 0 is about 0.195902, with sd 0.0001255087273443564\n",
      "Hence 95% CI: [0.19565600289440505, 0.19614799710559494\n"
     ]
    }
   ],
   "source": [
    "# Generate paths, note we skip time 0\n",
    "sims = np.random.normal(drift * delta_t, sigma * delta_t**0.5, (N,m)) # note scale param is sd not var\n",
    "paths = np.cumsum(sims, axis=1)\n",
    "\n",
    "res = np.any(paths > 0, axis=1)\n",
    "prob = np.sum(~res) / N\n",
    "sd = (prob * (1 - prob) / N)**0.5\n",
    "print(f\"Probability of maximum 0 is about {prob}, with sd {sd}\")\n",
    "print(f\"Hence 95% CI: [{prob - 1.96 * sd}, {prob + 1.96 * sd}\")"
   ],
   "metadata": {
    "collapsed": false,
    "pycharm": {
     "name": "#%%\n"
    }
   }
  },
  {
   "cell_type": "code",
   "execution_count": 95,
   "outputs": [
    {
     "name": "stdout",
     "output_type": "stream",
     "text": [
      "24\n",
      "Beta 2: 0.32238825196805726\n"
     ]
    }
   ],
   "source": [
    "# Now we will estimate B2 of the paper Broadie 1999\n",
    "sigma = 1\n",
    "T = 1\n",
    "m = 200\n",
    "M = 10000 # this is BM path, above is discrete\n",
    "N = 1000\n",
    "drift = r_ - 0.5 * sigma**2\n",
    "delta_t = T / M\n",
    "\n",
    "BM_path = np.zeros((N,M+1))\n",
    "draws = np.random.normal(drift * delta_t, sigma * delta_t**0.5, (N, M))\n",
    "BM_path = np.cumsum(draws, axis=1)\n",
    "max_bm = np.max(BM_path, axis=1)\n",
    "watch_moments = range(0, M, M//m)\n",
    "max_bw = np.max(BM_path[:, watch_moments], axis=1)\n",
    "\n",
    "print(np.sum(max_bw == max_bm)) # too much I think\n",
    "\n",
    "print(f\"Beta 2: {m*np.mean((max_bm - max_bw)**2)}\")"
   ],
   "metadata": {
    "collapsed": false,
    "pycharm": {
     "name": "#%%\n"
    }
   }
  }
 ],
 "metadata": {
  "kernelspec": {
   "display_name": "Python 3",
   "language": "python",
   "name": "python3"
  },
  "language_info": {
   "codemirror_mode": {
    "name": "ipython",
    "version": 2
   },
   "file_extension": ".py",
   "mimetype": "text/x-python",
   "name": "python",
   "nbconvert_exporter": "python",
   "pygments_lexer": "ipython2",
   "version": "2.7.6"
  }
 },
 "nbformat": 4,
 "nbformat_minor": 0
}