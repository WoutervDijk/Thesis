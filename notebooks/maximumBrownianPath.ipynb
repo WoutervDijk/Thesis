{
 "cells": [
  {
   "cell_type": "code",
   "execution_count": 1,
   "metadata": {
    "collapsed": true
   },
   "outputs": [],
   "source": [
    "import numpy as np\n",
    "# Set parameters\n",
    "sigma = 0.2\n",
    "r_ = 0\n",
    "drift = r_ - 0.5 * sigma**2\n",
    "T = 1\n",
    "m = 10\n",
    "delta_t = T / m\n",
    "N = 10000000 # number of simulations\n",
    "# Number of RV we simulate is N * m"
   ]
  },
  {
   "cell_type": "code",
   "execution_count": 2,
   "outputs": [
    {
     "name": "stdout",
     "output_type": "stream",
     "text": [
      "Probability of maximum 0 is about 0.1957671, with sd 0.00012547603060249796\n",
      "Hence 95% CI: [0.1955211669800191, 0.1960130330199809\n"
     ]
    }
   ],
   "source": [
    "# Generate paths, note we skip time 0\n",
    "sims = np.random.normal(drift * delta_t, sigma * delta_t**0.5, (N,m)) # note scale param is sd not var\n",
    "paths = np.cumsum(sims, axis=1)\n",
    "\n",
    "res = np.any(paths > 0, axis=1)\n",
    "prob = np.sum(~res) / N\n",
    "sd = (prob * (1 - prob) / N)**0.5\n",
    "print(f\"Probability of maximum 0 is about {prob}, with sd {sd}\")\n",
    "print(f\"Hence 95% CI: [{prob - 1.96 * sd}, {prob + 1.96 * sd}\")"
   ],
   "metadata": {
    "collapsed": false,
    "pycharm": {
     "name": "#%%\n"
    }
   }
  },
  {
   "cell_type": "code",
   "execution_count": 127,
   "outputs": [
    {
     "name": "stdout",
     "output_type": "stream",
     "text": [
      "3\n",
      "Beta 1 should be 0.5826 and Beta 2 0.425\n",
      "Beta 1: 0.5695982959811765, 0.00036813733606542943\n",
      "Beta 2: 0.4328622973489406\n"
     ]
    }
   ],
   "source": [
    "# Now we will estimate B2 of the paper Broadie 1999\n",
    "# TODO research errors, sigma and T are fine, very high drift is also off\n",
    "sigma = 0.5\n",
    "T = 1\n",
    "m = 200\n",
    "M = 100000 # this is BM path, above is discrete\n",
    "N = 1000\n",
    "\n",
    "drift = 0.1 # Happens when r = 0.5 sigma^2\n",
    "delta_t = T / M\n",
    "draws = np.random.normal(drift * delta_t, sigma * delta_t**0.5, (N, M))\n",
    "#draws = np.random.normal(0, 1, (N,M))\n",
    "draws = np.c_[np.zeros(N), draws]\n",
    "BM_path = np.cumsum(draws, axis=1)\n",
    "max_bm = np.max(BM_path, axis=1)\n",
    "watch_moments = range(0, M, M//m)\n",
    "max_bw = np.max(BM_path[:, watch_moments], axis=1)\n",
    "z = BM_path[:, watch_moments]\n",
    "print(np.sum((max_bw == max_bm))) # too much I think\n",
    "# print(np.sum(((max_bw == max_bm) & (max_bm != 0)))) # too much I think\n",
    "print(\"Beta 1 should be 0.5826 and Beta 2 0.425\")\n",
    "B_1_est = m**0.5 * np.mean(max_bm-max_bw)/(sigma * T**0.5)\n",
    "B_2_est = m*np.mean((max_bm - max_bw)**2)/(sigma**2 * T)\n",
    "print(f\"Beta 1: {B_1_est}, {np.std(max_bm- max_bw)/(N**0.5)}\")\n",
    "print(f\"Beta 2: {B_2_est}\")"
   ],
   "metadata": {
    "collapsed": false,
    "pycharm": {
     "name": "#%%\n"
    }
   }
  },
  {
   "cell_type": "code",
   "execution_count": 129,
   "outputs": [],
   "source": [
    "# Here we will use control variates and estimate the constant c\n",
    "from scipy.special import zeta\n",
    "B_1 = -zeta(0.5)/np.sqrt(2 * np.pi)\n",
    "\n",
    "new_b2_est = B_2_est + 0.5 * (B_1_est - B_1)"
   ],
   "metadata": {
    "collapsed": false,
    "pycharm": {
     "name": "#%%\n"
    }
   }
  }
 ],
 "metadata": {
  "kernelspec": {
   "display_name": "Python 3",
   "language": "python",
   "name": "python3"
  },
  "language_info": {
   "codemirror_mode": {
    "name": "ipython",
    "version": 2
   },
   "file_extension": ".py",
   "mimetype": "text/x-python",
   "name": "python",
   "nbconvert_exporter": "python",
   "pygments_lexer": "ipython2",
   "version": "2.7.6"
  }
 },
 "nbformat": 4,
 "nbformat_minor": 0
}