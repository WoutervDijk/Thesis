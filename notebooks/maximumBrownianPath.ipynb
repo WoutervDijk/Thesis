{
 "cells": [
  {
   "cell_type": "code",
   "execution_count": 1,
   "metadata": {
    "collapsed": true
   },
   "outputs": [],
   "source": [
    "import numpy as np\n",
    "# Set parameters\n",
    "sigma = 1\n",
    "r_ = 0\n",
    "drift = r_ - 0.5 * sigma**2\n",
    "T = 100\n",
    "m = 100\n",
    "delta_t = T / m\n",
    "N = 1000000 # number of simulations\n",
    "# Number of RV we simulate is N * m\n",
    "from scipy.special import zeta\n",
    "B_1 = -zeta(0.5)/np.sqrt(2 * np.pi)"
   ]
  },
  {
   "cell_type": "code",
   "execution_count": 2,
   "outputs": [
    {
     "name": "stdout",
     "output_type": "stream",
     "text": [
      "Probability of maximum 0 is about 0.52952, with sd 0.0004991278088826548\n",
      "Hence 95% CI: [0.52854170949459, 0.53049829050541\n"
     ]
    }
   ],
   "source": [
    "# Generate paths, note we skip time 0\n",
    "def simProbMax0(drift, delta_t, sigma, N, m):\n",
    "    sims = np.random.normal(drift * delta_t, sigma * delta_t**0.5, (N,m)) # note scale param is sd not var\n",
    "    paths = np.cumsum(sims, axis=1)\n",
    "    res = np.any(paths > 0, axis=1)\n",
    "    return np.sum(~res) / N\n",
    "\n",
    "prob = simProbMax0(drift, delta_t, sigma, N, m)\n",
    "sd = (prob * (1 - prob) / N)**0.5\n",
    "print(f\"Probability of maximum 0 is about {prob}, with sd {sd}\")\n",
    "print(f\"Hence 95% CI: [{prob - 1.96 * sd}, {prob + 1.96 * sd}\")"
   ],
   "metadata": {
    "collapsed": false,
    "pycharm": {
     "name": "#%%\n"
    }
   }
  },
  {
   "cell_type": "code",
   "execution_count": 4,
   "outputs": [
    {
     "name": "stdout",
     "output_type": "stream",
     "text": [
      "0.5293251497992767\n"
     ]
    }
   ],
   "source": [
    "from scipy.special import zeta, factorial\n",
    "#Solution of the probability using the theory of Johans paper thm 2.1 (not rewritten) redone later\n",
    "def exactProbMax0InfTime(drift):\n",
    "    B = - drift # this is beta\n",
    "    r_values = np.arange(0, 150)\n",
    "    zeta_vals = zeta(0.5 - r_values)\n",
    "    summation = np.sum(zeta_vals/(factorial(r_values)*(2*r_values+1))* (- B**2 /2)**r_values)\n",
    "    return np.exp(B / np.sqrt(2 * np.pi) * summation) * np.sqrt(2) * B\n",
    "\n",
    "prob_exact = exactProbMax0InfTime(drift)\n",
    "print(prob_exact)"
   ],
   "metadata": {
    "collapsed": false,
    "pycharm": {
     "name": "#%%\n"
    }
   }
  },
  {
   "cell_type": "code",
   "execution_count": 9,
   "outputs": [
    {
     "name": "stdout",
     "output_type": "stream",
     "text": [
      "Beta 1 should be 0.5826 and Beta 2 0.425\n",
      "Beta 1: 0.5702285311519713, \n",
      "Beta 2: 0.43165433009653315\n"
     ]
    }
   ],
   "source": [
    "# Now we will estimate B2 of the paper Broadie 1999\n",
    "# TODO research errors, sigma and T are fine, very high drift is also off\n",
    "sigma = 0.5\n",
    "T = 1\n",
    "m = 2000\n",
    "M = 1000000 # this is BM path, above is discrete\n",
    "N = 1000\n",
    "\n",
    "drift = 0.1 # Happens when r = 0.5 sigma^2\n",
    "delta_t = T / M\n",
    "def estB1B2():\n",
    "    draws = np.random.normal(drift * delta_t, sigma * delta_t**0.5, (N, M))\n",
    "    draws = np.c_[np.zeros(N), draws]\n",
    "    BM_path = np.cumsum(draws, axis=1)\n",
    "    max_bm = np.max(BM_path, axis=1)\n",
    "    watch_moments = range(0, M, M//m)\n",
    "    max_bw = np.max(BM_path[:, watch_moments], axis=1)\n",
    "    z = BM_path[:, watch_moments]\n",
    "    B_1_est = m**0.5 * np.mean(max_bm-max_bw)/(sigma * T**0.5)\n",
    "    B_2_est = m*np.mean((max_bm - max_bw)**2)/(sigma**2 * T)\n",
    "    return B_1_est, B_2_est\n",
    "# print(np.sum((max_bw == max_bm))) # too much I think\n",
    "# print(np.sum(((max_bw == max_bm) & (max_bm != 0)))) # too much I think\n",
    "print(\"Beta 1 should be 0.5826 and Beta 2 0.425\")\n",
    "B_1_est, B_2_est = estB1B2()\n",
    "print(f\"Beta 1: {B_1_est}, \")#{np.std(max_bm- max_bw)/(N**0.5)}\")\n",
    "print(f\"Beta 2: {B_2_est}\")"
   ],
   "metadata": {
    "collapsed": false,
    "pycharm": {
     "name": "#%%\n"
    }
   }
  },
  {
   "cell_type": "code",
   "execution_count": 142,
   "outputs": [],
   "source": [
    "# Here we will use control variates and estimate the constant c\n",
    "from scipy.special import zeta\n",
    "B_1 = -zeta(0.5)/np.sqrt(2 * np.pi)\n",
    "estimates = np.zeros((1500,2))\n",
    "for i in range(1500):\n",
    "    estimates[i] = estB1B2()"
   ],
   "metadata": {
    "collapsed": false,
    "pycharm": {
     "name": "#%%\n"
    }
   }
  },
  {
   "cell_type": "code",
   "execution_count": 17,
   "outputs": [
    {
     "name": "stdout",
     "output_type": "stream",
     "text": [
      "0.33941944843861255\n",
      "Covariance should be  -0.16779027578069372\n",
      "11.183249477170632\n",
      "4.752881027797518\n",
      "0.33558055156138744\n",
      "0.4291129755668518\n"
     ]
    }
   ],
   "source": [
    "#Some estimates in finding B2\n",
    "from scipy.special import zeta\n",
    "B_1 = -zeta(0.5)/np.sqrt(2 * np.pi)\n",
    "weirdConstant = zeta(-0.5) / np.sqrt(2 * np.pi)\n",
    "print(B_1**2)\n",
    "true_est = B_1**2 - 1/4\n",
    "B_2 = 0.425\n",
    "print(\"Covariance should be \", (B_2 - (B_1**2-1/4))*-1/2 )\n",
    "print(1/true_est)\n",
    "print(.425 / true_est)\n",
    "print(0.425 - true_est)\n",
    "print(1/(4 * B_1))"
   ],
   "metadata": {
    "collapsed": false,
    "pycharm": {
     "name": "#%%\n"
    }
   }
  },
  {
   "cell_type": "code",
   "execution_count": 67,
   "outputs": [
    {
     "name": "stdout",
     "output_type": "stream",
     "text": [
      "[[ 1.06741761e+03 -2.86294040e-01]\n",
      " [-2.86294040e-01  9.22640098e-02]]\n"
     ]
    }
   ],
   "source": [
    "# Poging om covariance(M, Mhat-M) te vinden (partieel geslaagd, het zou kunnen)\n",
    "drift = -0.0000004\n",
    "m = 3000\n",
    "M = 3000000 # this is BM path, above is discrete\n",
    "N = 100\n",
    "NumberOfSims = 100\n",
    "max_bm = np.zeros(N * NumberOfSims)\n",
    "max_bw = np.zeros(N*NumberOfSims)\n",
    "for i in range(NumberOfSims):\n",
    "    draws = np.random.normal(drift, (1/(M/m)**0.5), (N, M))\n",
    "    draws = np.c_[np.zeros(N), draws]\n",
    "    BM_path = np.cumsum(draws, axis=1)\n",
    "    max_bm[i * N:(i+1)*N] = np.max(BM_path, axis=1)\n",
    "    watch_moments = range(0, M, M//m)\n",
    "    max_bw[i * N:(i+1)*N] = np.max(BM_path[:, watch_moments], axis=1)\n",
    "print(np.cov(max_bm, max_bw - max_bm))"
   ],
   "metadata": {
    "collapsed": false,
    "pycharm": {
     "name": "#%%\n"
    }
   }
  },
  {
   "cell_type": "code",
   "execution_count": 162,
   "outputs": [
    {
     "name": "stdout",
     "output_type": "stream",
     "text": [
      "[[1.         0.92535239]\n",
      " [0.92535239 1.        ]]\n"
     ]
    }
   ],
   "source": [
    "covariances = np.cov(estimates[:,0], estimates[:,1])\n",
    "c = -covariances[0,1]/covariances[0,0]\n",
    "print(np.corrcoef(estimates[:,0], estimates[:,1]))"
   ],
   "metadata": {
    "collapsed": false,
    "pycharm": {
     "name": "#%%\n"
    }
   }
  },
  {
   "cell_type": "code",
   "execution_count": 161,
   "outputs": [],
   "source": [
    "# We have 92.5% correlation, which is very good for control variates\n",
    "b1, b2 = estB1B2()\n",
    "best_b2 = b2 + c * (b1 - B_1)\n",
    "\n",
    "\n"
   ],
   "metadata": {
    "collapsed": false,
    "pycharm": {
     "name": "#%%\n"
    }
   }
  },
  {
   "cell_type": "code",
   "execution_count": 4,
   "outputs": [
    {
     "name": "stdout",
     "output_type": "stream",
     "text": [
      "1.2334775106951026\n",
      "1.238151824487769\n"
     ]
    }
   ],
   "source": [
    "# Check formula for maximum geometric brownian motion on finite time\n",
    "from scipy.stats import norm\n",
    "sigma = 0.2\n",
    "r_ = 0.1\n",
    "drift = r_ - 0.5 * sigma**2\n",
    "T = 1\n",
    "m = 1000\n",
    "delta_t = T / m\n",
    "N = 100000 # number of simulations\n",
    "\n",
    "def simMeanMaxGBM(drift, sigma, T, N, m):\n",
    "    delta_t = T / m\n",
    "    sims = np.random.normal(drift * delta_t, sigma * delta_t**0.5, (N,m)) # note scale param is sd not var\n",
    "    paths = np.cumsum(sims, axis=1)\n",
    "    max_bm = np.max(paths, axis=1)\n",
    "    return np.mean(np.exp(max_bm))\n",
    "\n",
    "mean_max_gbm = simMeanMaxGBM(drift, sigma, T, N, m)\n",
    "print(mean_max_gbm)\n",
    "\n",
    "def exactMeanMaxGBM(r_, sigma, T):\n",
    "    return (1 + sigma**2 / (2*r_)) * np.exp(r_*T) * norm.cdf((r_ + 0.5 * sigma**2)*T/(sigma * T**0.5)) + \\\n",
    "        norm.cdf(- (r_ - 0.5 * sigma**2) * T / (sigma*T**0.5)) * (1 - sigma**2 / (2 * r_))\n",
    "\n",
    "print(exactMeanMaxGBM(r_, sigma, T))"
   ],
   "metadata": {
    "collapsed": false,
    "pycharm": {
     "name": "#%%\n"
    }
   }
  },
  {
   "cell_type": "code",
   "execution_count": 5,
   "outputs": [
    {
     "name": "stdout",
     "output_type": "stream",
     "text": [
      "0.19260500900844582\n",
      "0.19259\n"
     ]
    }
   ],
   "source": [
    "# Prob of tildeM_m = 0 and hatM exact via Johan et al, we shall calculate both and compare\n",
    "sigma = 0.1\n",
    "r_ = -0.1\n",
    "drift = r_ - 0.5 * sigma**2\n",
    "T = 100\n",
    "m = 5000\n",
    "delta_t = T / m\n",
    "N = 100000 # number of simulations\n",
    "\n",
    "print(exactProbMax0InfTime(drift / sigma * np.sqrt(T / m)))\n",
    "print(simProbMax0(drift, T/m, sigma, N, m))"
   ],
   "metadata": {
    "collapsed": false,
    "pycharm": {
     "name": "#%%\n"
    }
   }
  },
  {
   "cell_type": "code",
   "execution_count": 6,
   "outputs": [
    {
     "name": "stdout",
     "output_type": "stream",
     "text": [
      "approx without full correction:  2293701.819496535\n",
      "2717942.583779832\n",
      "2290308.5837396574\n"
     ]
    }
   ],
   "source": [
    "# Here we will calculate an approximation for the mean of e^tilde(M)_m\n",
    "S_0 = 100\n",
    "approx_mean = S_0 * np.exp(- B_1 * sigma * np.sqrt(T / m)) * exactMeanMaxGBM(r_, sigma, T) + exactProbMax0InfTime(drift / sigma * np.sqrt(T / m)) * S_0\n",
    "approx_price_option = np.exp(- r_ * T) * (approx_mean - S_0 * np.exp(r_ * T))\n",
    "print(\"approx without full correction: \", np.exp(-r_ * T) * S_0 * np.exp(- B_1 * sigma * np.sqrt(T / m)) * exactMeanMaxGBM(r_, sigma, T) - S_0)\n",
    "def simPriceLookbackPut(r_, sigma, T, N, m):\n",
    "    drift = r_ - 0.5 * sigma ** 2\n",
    "    mean_GBM = simMeanMaxGBM(drift, sigma, T, N, m)\n",
    "    return np.exp(-r_ * T) * (mean_GBM * S_0 - S_0 * np.exp(r_ * T))\n",
    "\n",
    "print(approx_price_option)\n",
    "print(simPriceLookbackPut(r_, sigma, T, N, m))"
   ],
   "metadata": {
    "collapsed": false,
    "pycharm": {
     "name": "#%%\n"
    }
   }
  },
  {
   "cell_type": "code",
   "execution_count": 16,
   "outputs": [
    {
     "name": "stdout",
     "output_type": "stream",
     "text": [
      "2369462.2734250785\n",
      "price without added prob 0 1945221.5091417814\n",
      "88.3174598804879\n",
      "105.0\n",
      "2312678.9084547055\n"
     ]
    }
   ],
   "source": [
    "# Here we will numerically integrate my own idea, with the correction added later\n",
    "from scipy.stats import norm\n",
    "import scipy.integrate as integrate\n",
    "def toIntegrate(x):\n",
    "    def pdf(x):\n",
    "        sqrtSigmaT = sigma * T**0.5\n",
    "        return 1/sqrtSigmaT * norm.pdf((x - drift*T)/sqrtSigmaT) - 2 * drift / sigma**2 * np.exp(2 * drift*x / sigma**2) * norm.cdf((-x - drift * T)/sqrtSigmaT) +\\\n",
    "            np.exp(2 * drift * x / sigma**2) * norm.pdf((-x - drift * T)/sqrtSigmaT)/sqrtSigmaT\n",
    "    def otherPdf(x):\n",
    "        return 2 / (sigma * np.sqrt(2 * np.pi * T)) * np.exp(-1/(2 * sigma**2 * T) * (x-drift*T)**2) -\\\n",
    "            2 * drift/ sigma**2 * np.exp(2 * drift * x/ sigma**2)*norm.cdf((-x-drift*T)/(sigma * T**0.5))\n",
    "    return x * pdf(np.log(x) + B_1 * sigma * np.sqrt(T/m) - np.log(S_0)) / x\n",
    "\n",
    "# Some sanity tests\n",
    "# Note pdf function ALSO integrates to one\n",
    "# print(integrate.quad(toIntegrate, 0, np.inf)) integrates to one so density\n",
    "# Both representations of pdfs are correct now\n",
    "result = integrate.quad(toIntegrate, S_0, np.inf)[0]\n",
    "print(np.exp(- r_ * T) * (result + exactProbMax0InfTime(drift / sigma * np.sqrt(T / m)) * S_0 - S_0 * np.exp(r_ * T)))\n",
    "print(\"price without added prob 0\", np.exp(- r_ * T) * (result - S_0 * np.exp(r_ * T)))\n",
    "print(result)\n",
    "print(exactMeanMaxGBM(r_, sigma, T) * S_0)\n",
    "print(np.exp(-r_ * T) * (exactMeanMaxGBM(r_, sigma, T) * S_0 - S_0 * np.exp(r_*T)))\n",
    "\n",
    "# Sanity check integrating toIntegrate but without the correction added over full support leads to\n",
    "# the same mean as exactMeanMaxGbm (as it should), now it doesn't because correction is added (changing support is not sufficient)\n",
    "# print(exactMeanMaxGBM(r_, sigma, T) * S_0, integrate.quad(toIntegrate, S_0, np.inf))\n",
    "\n",
    "# Another check, the following results in the same price as approx without fully correction above (as expected)\n",
    "# result = integrate.quad(toIntegrate, S_0 * np.exp(-B_1 * sigma * np.sqrt(T/m)), np.inf)[0]\n",
    "\n"
   ],
   "metadata": {
    "collapsed": false,
    "pycharm": {
     "name": "#%%\n"
    }
   }
  },
  {
   "cell_type": "code",
   "execution_count": 62,
   "outputs": [
    {
     "name": "stdout",
     "output_type": "stream",
     "text": [
      "0.39067272328167396\n",
      "[[ 6.56412421e+02 -2.91495324e-01]\n",
      " [-2.91495324e-01  8.65849801e-02]]\n"
     ]
    }
   ],
   "source": [
    "# Kansloze pogingen om B_2 te ontleden\n",
    "gamma = -0.0000001\n",
    "N = 100\n",
    "m = 2000\n",
    "M = m * 1000 # BM path is watched 100 times more than BW path\n",
    "draws = np.random.normal(gamma, np.sqrt(1/(M/m)), (N, M))\n",
    "draws = np.c_[np.zeros(N), draws]\n",
    "BM_path = np.cumsum(draws, axis=1)\n",
    "max_bm = np.max(BM_path, axis=1)\n",
    "watch_moments = range(0, M, M//m)\n",
    "max_bw = np.max(BM_path[:, watch_moments], axis=1)\n",
    "print(np.mean((max_bm - max_bw)**2))"
   ],
   "metadata": {
    "collapsed": false,
    "pycharm": {
     "name": "#%%\n"
    }
   }
  }
 ],
 "metadata": {
  "kernelspec": {
   "display_name": "Python 3",
   "language": "python",
   "name": "python3"
  },
  "language_info": {
   "codemirror_mode": {
    "name": "ipython",
    "version": 2
   },
   "file_extension": ".py",
   "mimetype": "text/x-python",
   "name": "python",
   "nbconvert_exporter": "python",
   "pygments_lexer": "ipython2",
   "version": "2.7.6"
  }
 },
 "nbformat": 4,
 "nbformat_minor": 0
}